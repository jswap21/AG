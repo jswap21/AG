{
  "nbformat": 4,
  "nbformat_minor": 0,
  "metadata": {
    "colab": {
      "provenance": [],
      "collapsed_sections": [],
      "include_colab_link": true
    },
    "kernelspec": {
      "name": "python3",
      "display_name": "Python 3"
    }
  },
  "cells": [
    {
      "cell_type": "markdown",
      "metadata": {
        "id": "view-in-github",
        "colab_type": "text"
      },
      "source": [
        "<a href=\"https://colab.research.google.com/github/jswap21/AG/blob/main/AT_Lesson_50_Reference_v0.ipynb\" target=\"_parent\"><img src=\"https://colab.research.google.com/assets/colab-badge.svg\" alt=\"Open In Colab\"/></a>"
      ]
    },
    {
      "cell_type": "markdown",
      "metadata": {
        "id": "Q7hw3pDcIn2J"
      },
      "source": [
        "# Lesson 50: CLT II And Standard Normal Distribution"
      ]
    },
    {
      "cell_type": "markdown",
      "metadata": {
        "id": "yzK99EA6FZlE"
      },
      "source": [
        "**WARNING:** The reference notebook is meant **ONLY** for a teacher. Please **DO NOT** share it with any student. The contents of the reference notebook are meant only to prepare a teacher for a class. To conduct the class, use the class copy of the reference notebook. \n",
        "\n",
        "|Particulars|Description|\n",
        "|-|-|\n",
        "|**Topic**|Central Limit Theorem II And Standard Normal Distribution|\n",
        "|||\n",
        "|**Class Description**|In this class, a student will learn to calculate the population mean using the sample mean and standard error|\n",
        "|||\n",
        "|**Class**|C50|\n",
        "|||\n",
        "|**Class Time**|45 minutes|\n",
        "|||\n",
        "|**Goals**|Calculate standard error|\n",
        "||Calculate the population mean using the sample mean and standard error|\n",
        "||Calculate the $Z$-scores for cholesterol levels for the heart disease patients|\n",
        "|||\n",
        "|**Teacher Resources**|Google Account|\n",
        "||Laptop with internet connectivity|\n",
        "||Earphones with mic|\n",
        "|||\n",
        "|**Student Resources**|Google Account|\n",
        "||Laptop with internet connectivity|\n",
        "||Earphones with mic|"
      ]
    },
    {
      "cell_type": "markdown",
      "metadata": {
        "id": "fH1v4Y9DFeMN"
      },
      "source": [
        "---"
      ]
    },
    {
      "cell_type": "markdown",
      "metadata": {
        "id": "ttjse-yxGOpY"
      },
      "source": [
        "### Warm-up Quiz\n",
        "\n",
        "```\n",
        "TEACHER\n",
        "I have an exciting quiz question for you! Are you ready to answer this question?\n",
        "\n",
        "EXPECTED STUDENT RESPONSE\n",
        "Yes.\n",
        "```\n",
        "\n",
        "**Instructions for the Teacher:**\n",
        "- Please click on the \"Quiz Time\" button on the bottom right corner of your screen to start the In-Class Quiz. <img src='https://student-datasets-bucket.s3.ap-south-1.amazonaws.com/images/quiz-time.png' width = 150>\n",
        "\n",
        "- A quiz will be visible to both you and the student. Encourage the student to answer the quiz question. \n",
        "\n",
        "- The student may choose the wrong option, help the student to think correctly about the question and then answer again. \n",
        "\n",
        "- After the student selects the correct option, the \"End Quiz\" button will start appearing on your screen. <img src='https://student-datasets-bucket.s3.ap-south-1.amazonaws.com/images/end-quiz.png' width = 150>  \n",
        "\n",
        "- Click the \"End quiz\" button to close the quiz pop-up and continue the class. \n",
        "  \n",
        "- Do not spend more than 2 minutes on this quiz.\n",
        "\n",
        "\n"
      ]
    },
    {
      "cell_type": "markdown",
      "metadata": {
        "id": "r4U2PNf-GPqu"
      },
      "source": [
        "---"
      ]
    },
    {
      "cell_type": "markdown",
      "metadata": {
        "id": "3U_BAlxOnVuh"
      },
      "source": [
        "### Teacher-Student Activities\n",
        "\n",
        "In this class, we will learn the following concepts:\n",
        "\n",
        "- How to calculate the population mean with 95% probability, using the sample mean and sample standard deviation.\n",
        "\n",
        "- Normalise an array/series of numeric values using the standard normalisation technique and plot a standard normal distribution curve.\n",
        "\n",
        "Let's quickly go through the activities covered in the previous class and begin this class from **Activity 1: Sampling Distribution And Standard Error**. \n"
      ]
    },
    {
      "cell_type": "markdown",
      "metadata": {
        "id": "Gn0HLG8mtLo-"
      },
      "source": [
        "---"
      ]
    },
    {
      "cell_type": "markdown",
      "metadata": {
        "id": "ze9uSJt-I-0E"
      },
      "source": [
        "**Data Description**\n",
        "\n",
        "The heart Disease UCI dataset contains data collected on 14 different attributes by examining 303 patients. The dataset focuses only on differentiating patients having heart disease; labelled as value 1 and those not having heart disease; labelled as value 0. The 14 attributes (or columns) are as follows:\n",
        "\n",
        "|Columns|Description|\n",
        "|-|-|\n",
        "|age|age in years|\n",
        "|sex|sex (1 = male; 0 = female)|\n",
        "|cp|chest pain type (4 values)|\n",
        "|trestbps|resting blood pressure (in mm Hg on admission to the hospital)|\n",
        "|chol|serum cholesterol in $\\frac{mg}{dl}$|\n",
        "|fbs|fasting blood sugar > 120 $\\frac{mg}{dl}$|\n",
        "|restecg|resting electrocardiographic results (values 0, 1, 2)|\n",
        "|thalach|maximum heart rate achieved|\n",
        "|exang|exercise induced angina (1 = yes; 0 = no)|\n",
        "|oldpeak|ST depression induced by exercise relative to rest|\n",
        "|slope|the slope of the peak exercise ST segment|\n",
        "|ca|number of major vessels (0-3) colored by fluoroscopy|\n",
        "|thal|A blood disorder called thalassemia|\n",
        "|target|1 = presence of heart disease; 0 = absence of heart disease|\n",
        "\n",
        "**Source:** https://archive.ics.uci.edu/ml/datasets/Heart+Disease\n",
        "\n",
        "\n"
      ]
    },
    {
      "cell_type": "markdown",
      "metadata": {
        "id": "BpKI2pWEtREK"
      },
      "source": [
        "---"
      ]
    },
    {
      "cell_type": "markdown",
      "metadata": {
        "id": "zvlK3lxPrnjT"
      },
      "source": [
        "#### Loading Data"
      ]
    },
    {
      "cell_type": "code",
      "metadata": {
        "id": "tmRB05lddS--",
        "colab": {
          "base_uri": "https://localhost:8080/",
          "height": 204
        },
        "outputId": "9916e36e-61db-4b67-c8ff-897eca981ebe"
      },
      "source": [
        "# Import the required modules and load the heart disease dataset. Also, display the first five rows.\n",
        "import numpy as np\n",
        "import pandas as pd\n",
        "import matplotlib.pyplot as plt\n",
        "import seaborn as sns\n",
        "\n",
        "csv_file = 'https://student-datasets-bucket.s3.ap-south-1.amazonaws.com/whitehat-ds-datasets/uci-heart-disease/heart.csv'\n",
        "df = pd.read_csv(csv_file)\n",
        "df.head()"
      ],
      "execution_count": null,
      "outputs": [
        {
          "output_type": "execute_result",
          "data": {
            "text/html": [
              "<div>\n",
              "<style scoped>\n",
              "    .dataframe tbody tr th:only-of-type {\n",
              "        vertical-align: middle;\n",
              "    }\n",
              "\n",
              "    .dataframe tbody tr th {\n",
              "        vertical-align: top;\n",
              "    }\n",
              "\n",
              "    .dataframe thead th {\n",
              "        text-align: right;\n",
              "    }\n",
              "</style>\n",
              "<table border=\"1\" class=\"dataframe\">\n",
              "  <thead>\n",
              "    <tr style=\"text-align: right;\">\n",
              "      <th></th>\n",
              "      <th>age</th>\n",
              "      <th>sex</th>\n",
              "      <th>cp</th>\n",
              "      <th>trestbps</th>\n",
              "      <th>chol</th>\n",
              "      <th>fbs</th>\n",
              "      <th>restecg</th>\n",
              "      <th>thalach</th>\n",
              "      <th>exang</th>\n",
              "      <th>oldpeak</th>\n",
              "      <th>slope</th>\n",
              "      <th>ca</th>\n",
              "      <th>thal</th>\n",
              "      <th>target</th>\n",
              "    </tr>\n",
              "  </thead>\n",
              "  <tbody>\n",
              "    <tr>\n",
              "      <th>0</th>\n",
              "      <td>63</td>\n",
              "      <td>1</td>\n",
              "      <td>3</td>\n",
              "      <td>145</td>\n",
              "      <td>233</td>\n",
              "      <td>1</td>\n",
              "      <td>0</td>\n",
              "      <td>150</td>\n",
              "      <td>0</td>\n",
              "      <td>2.3</td>\n",
              "      <td>0</td>\n",
              "      <td>0</td>\n",
              "      <td>1</td>\n",
              "      <td>1</td>\n",
              "    </tr>\n",
              "    <tr>\n",
              "      <th>1</th>\n",
              "      <td>37</td>\n",
              "      <td>1</td>\n",
              "      <td>2</td>\n",
              "      <td>130</td>\n",
              "      <td>250</td>\n",
              "      <td>0</td>\n",
              "      <td>1</td>\n",
              "      <td>187</td>\n",
              "      <td>0</td>\n",
              "      <td>3.5</td>\n",
              "      <td>0</td>\n",
              "      <td>0</td>\n",
              "      <td>2</td>\n",
              "      <td>1</td>\n",
              "    </tr>\n",
              "    <tr>\n",
              "      <th>2</th>\n",
              "      <td>41</td>\n",
              "      <td>0</td>\n",
              "      <td>1</td>\n",
              "      <td>130</td>\n",
              "      <td>204</td>\n",
              "      <td>0</td>\n",
              "      <td>0</td>\n",
              "      <td>172</td>\n",
              "      <td>0</td>\n",
              "      <td>1.4</td>\n",
              "      <td>2</td>\n",
              "      <td>0</td>\n",
              "      <td>2</td>\n",
              "      <td>1</td>\n",
              "    </tr>\n",
              "    <tr>\n",
              "      <th>3</th>\n",
              "      <td>56</td>\n",
              "      <td>1</td>\n",
              "      <td>1</td>\n",
              "      <td>120</td>\n",
              "      <td>236</td>\n",
              "      <td>0</td>\n",
              "      <td>1</td>\n",
              "      <td>178</td>\n",
              "      <td>0</td>\n",
              "      <td>0.8</td>\n",
              "      <td>2</td>\n",
              "      <td>0</td>\n",
              "      <td>2</td>\n",
              "      <td>1</td>\n",
              "    </tr>\n",
              "    <tr>\n",
              "      <th>4</th>\n",
              "      <td>57</td>\n",
              "      <td>0</td>\n",
              "      <td>0</td>\n",
              "      <td>120</td>\n",
              "      <td>354</td>\n",
              "      <td>0</td>\n",
              "      <td>1</td>\n",
              "      <td>163</td>\n",
              "      <td>1</td>\n",
              "      <td>0.6</td>\n",
              "      <td>2</td>\n",
              "      <td>0</td>\n",
              "      <td>2</td>\n",
              "      <td>1</td>\n",
              "    </tr>\n",
              "  </tbody>\n",
              "</table>\n",
              "</div>"
            ],
            "text/plain": [
              "   age  sex  cp  trestbps  chol  fbs  ...  exang  oldpeak  slope  ca  thal  target\n",
              "0   63    1   3       145   233    1  ...      0      2.3      0   0     1       1\n",
              "1   37    1   2       130   250    0  ...      0      3.5      0   0     2       1\n",
              "2   41    0   1       130   204    0  ...      0      1.4      2   0     2       1\n",
              "3   56    1   1       120   236    0  ...      0      0.8      2   0     2       1\n",
              "4   57    0   0       120   354    0  ...      1      0.6      2   0     2       1\n",
              "\n",
              "[5 rows x 14 columns]"
            ]
          },
          "metadata": {
            "tags": []
          },
          "execution_count": 15
        }
      ]
    },
    {
      "cell_type": "markdown",
      "metadata": {
        "id": "h1a-clG-jqPr"
      },
      "source": [
        "Let's first look at the complete information on the `df` DataFrame."
      ]
    },
    {
      "cell_type": "code",
      "metadata": {
        "id": "M2x3F5XtkAGd",
        "colab": {
          "base_uri": "https://localhost:8080/"
        },
        "outputId": "1cdb5136-9a47-4bce-e3de-5853f2b054ab"
      },
      "source": [
        "# DataFrame information.\n",
        "df.info()"
      ],
      "execution_count": null,
      "outputs": [
        {
          "output_type": "stream",
          "text": [
            "<class 'pandas.core.frame.DataFrame'>\n",
            "RangeIndex: 303 entries, 0 to 302\n",
            "Data columns (total 14 columns):\n",
            " #   Column    Non-Null Count  Dtype  \n",
            "---  ------    --------------  -----  \n",
            " 0   age       303 non-null    int64  \n",
            " 1   sex       303 non-null    int64  \n",
            " 2   cp        303 non-null    int64  \n",
            " 3   trestbps  303 non-null    int64  \n",
            " 4   chol      303 non-null    int64  \n",
            " 5   fbs       303 non-null    int64  \n",
            " 6   restecg   303 non-null    int64  \n",
            " 7   thalach   303 non-null    int64  \n",
            " 8   exang     303 non-null    int64  \n",
            " 9   oldpeak   303 non-null    float64\n",
            " 10  slope     303 non-null    int64  \n",
            " 11  ca        303 non-null    int64  \n",
            " 12  thal      303 non-null    int64  \n",
            " 13  target    303 non-null    int64  \n",
            "dtypes: float64(1), int64(13)\n",
            "memory usage: 33.3 KB\n"
          ],
          "name": "stdout"
        }
      ]
    },
    {
      "cell_type": "markdown",
      "metadata": {
        "id": "f6cHtaNIxePz"
      },
      "source": [
        "---"
      ]
    },
    {
      "cell_type": "markdown",
      "metadata": {
        "id": "KY8RUpcogKCP"
      },
      "source": [
        "#### Activity 1: Sampling Distribution And Standard Error\n",
        "\n",
        "*If we take several samples of a dataset (or population) such that each sample contains sufficient number of observations, then the means of all the sample means will be very close or nearly equal to the population mean*\n",
        "\n",
        "This is called **Central Limit Theorem (CLT)**. \n",
        "The distribution of sample means of a population is called a **sampling distribution.**\n",
        "\n",
        "\n",
        "The sampling distribution has the following three properties:\n",
        "\n",
        "1. The mean of a sampling distribution (denoted by $\\mu_\\bar{X}$) is equal to the population mean (denoted by $\\mu$). Hence, \n",
        "$$\\mu_\\bar{X} = \\mu$$\n",
        "2. The standard deviation (or **standard error**) in the sampling distribution (denoted as $\\text{SE}$) is the ratio of the sample standard deviation ($s$) to the square root of sample size. It is given as $\\text{SE} = \\frac{s}{\\sqrt{n}}$, where $n$ is the sample size.\n",
        "3. For $n \\ge 30$, the sampling distribution follows the normal distribution (bell curve)."
      ]
    },
    {
      "cell_type": "markdown",
      "metadata": {
        "id": "8ecokmLLoVNX"
      },
      "source": [
        "---"
      ]
    },
    {
      "cell_type": "markdown",
      "metadata": {
        "id": "CJmv539kn9nq"
      },
      "source": [
        "#### Activity 2: Population Mean Estimation Using CLT^\n",
        "\n",
        "Now using CLT, let's learn to compute the population mean using the sample mean and sample standard deviation. \n",
        "\n",
        "This concept will be helpful when we don't know the population mean. In this case, we can easily calculate the population mean and population standard deviation because we have the dataset for the population. But many times in the real world, we have the dataset for a small sample and using the sample mean and sample standard deviation we will have to find the population mean.\n",
        "\n",
        "To learn this concept, let's consider the population of the patients having heart disease.\n"
      ]
    },
    {
      "cell_type": "code",
      "metadata": {
        "id": "4NDc3zxyhB-z",
        "colab": {
          "base_uri": "https://localhost:8080/"
        },
        "outputId": "a6f2c8fe-e8ca-4d87-b783-83482e4b122f"
      },
      "source": [
        "# S2.1: Create a Pandas series containing cholesterol values for the patients having heart disease. \n",
        "chol_having_disease = df.loc[df['target'] == 1, 'chol']\n",
        "chol_having_disease"
      ],
      "execution_count": null,
      "outputs": [
        {
          "output_type": "execute_result",
          "data": {
            "text/plain": [
              "0      233\n",
              "1      250\n",
              "2      204\n",
              "3      236\n",
              "4      354\n",
              "      ... \n",
              "160    240\n",
              "161    342\n",
              "162    157\n",
              "163    175\n",
              "164    175\n",
              "Name: chol, Length: 165, dtype: int64"
            ]
          },
          "metadata": {
            "tags": []
          },
          "execution_count": 17
        }
      ]
    },
    {
      "cell_type": "markdown",
      "metadata": {
        "id": "wAnkyR_2yGl6"
      },
      "source": [
        "So there are 165 patients who have heart disease. Hence, in this case, our population dataset consists of 165 observations. Now, let's calculate the population mean and population standard deviation for this dataset."
      ]
    },
    {
      "cell_type": "code",
      "metadata": {
        "id": "-LwHx7dr6AcA",
        "colab": {
          "base_uri": "https://localhost:8080/"
        },
        "outputId": "649e4737-9c1f-4277-a744-e769f69f1354"
      },
      "source": [
        "# S2.2: Calculate population mean and population standard deviation for the patients having heart disease.\n",
        "print(f\"Population mean = {chol_having_disease.mean():.3f}\")\n",
        "print(f\"Population std = {chol_having_disease.std():.3f}\")"
      ],
      "execution_count": null,
      "outputs": [
        {
          "output_type": "stream",
          "text": [
            "Population mean = 242.230\n",
            "Population std = 53.553\n"
          ],
          "name": "stdout"
        }
      ]
    },
    {
      "cell_type": "markdown",
      "metadata": {
        "id": "X-z5U3eW_A8A"
      },
      "source": [
        "Now let's take a sample of (say 50) patients out of 165 patients having heart disease and compute the mean cholesterol level along with the standard deviation.\n",
        "\n",
        "**Note:** Choose a sample size of at least 30 so that the sampling distribution follows the normal distribution."
      ]
    },
    {
      "cell_type": "code",
      "metadata": {
        "id": "LBFi6lMh2uke",
        "colab": {
          "base_uri": "https://localhost:8080/"
        },
        "outputId": "53c0f48f-c545-45b2-e6d8-304ab1d23d24"
      },
      "source": [
        "# S2.3: Create a sample of 50 patients out of 165 patients having heart disease.\n",
        "chol_having_disease_sample = chol_having_disease.sample(n = 50)\n",
        "chol_having_disease_sample[:10] # Displaying only the first 10 values of the sample."
      ],
      "execution_count": null,
      "outputs": [
        {
          "output_type": "execute_result",
          "data": {
            "text/plain": [
              "119    243\n",
              "153    278\n",
              "112    313\n",
              "71     227\n",
              "87     197\n",
              "2      204\n",
              "22     226\n",
              "6      294\n",
              "29     197\n",
              "151    149\n",
              "Name: chol, dtype: int64"
            ]
          },
          "metadata": {
            "tags": []
          },
          "execution_count": 19
        }
      ]
    },
    {
      "cell_type": "markdown",
      "metadata": {
        "id": "VqAXBnuf2oNw"
      },
      "source": [
        "Let's compute mean cholesterol level along with standard deviation for the sample of patients having heart disease."
      ]
    },
    {
      "cell_type": "code",
      "metadata": {
        "id": "pYkn8F1Kxz69",
        "colab": {
          "base_uri": "https://localhost:8080/"
        },
        "outputId": "10c6c554-996f-48f3-af33-ef100d4da71c"
      },
      "source": [
        "# S2.4: Compute mean cholesterol level along with standard deviation for the patients having heart disease.\n",
        "sample_mean = chol_having_disease_sample.mean()\n",
        "sample_std = chol_having_disease_sample.std()\n",
        "print(\"\"\"Mean cholesterol level for the sample of patients having heart disease = {:.3f}\n",
        "S.D. in the cholesterol level for the sample of patients having heart disease = {:.3f}\n",
        "\"\"\".format(sample_mean, sample_std))"
      ],
      "execution_count": null,
      "outputs": [
        {
          "output_type": "stream",
          "text": [
            "Mean cholesterol level for the sample of patients having heart disease = 244.960\n",
            "S.D. in the cholesterol level for the sample of patients having heart disease = 52.922\n",
            "\n"
          ],
          "name": "stdout"
        }
      ]
    },
    {
      "cell_type": "markdown",
      "metadata": {
        "id": "Yk9NsLVxyRv6"
      },
      "source": [
        "Now, using CLT, with 95% probability (or confidence), you can say that the population mean $\\mu$ of cholesterol level for the patients having heart disease will lie between $\\left(\\text{sample mean} - 2 \\times \\frac{\\text{sample standard deviation}}{\\sqrt{\\text{sample size}}}\\right)$ and $\\left(\\text{sample mean} + 2 \\times \\frac{\\text{sample standard deviation}}{\\sqrt{\\text{sample size}}}\\right)$\n",
        "\n",
        "**Recall Normal Distribution**\n",
        "\n",
        "1. Approx. 68% of the values lie within one-sigma interval around the mean.\n",
        "\n",
        "2. Approx. 95% of the values lie within a two-sigma interval around the mean.\n",
        "\n",
        "3. Approx. 99.7% of the values lie within a three-sigma interval around the mean.\n",
        "\n",
        "<img src = 'https://student-datasets-bucket.s3.ap-south-1.amazonaws.com/images/vecstock-norm-dist.jpg' width = 700>\n",
        "\n",
        "\n",
        "Now, with 95% probability (or confidence), calculate the population mean of cholesterol level for the patients having heart disease using the sample mean and sample standard deviation."
      ]
    },
    {
      "cell_type": "code",
      "metadata": {
        "id": "teGIVfaOjb7A",
        "colab": {
          "base_uri": "https://localhost:8080/"
        },
        "outputId": "64d98bd0-c7ee-495e-d444-d1ea291709b0"
      },
      "source": [
        "# S2.5: With 95% probability, calculate the population mean of cholesterol level using the sample mean and sample standard deviation.\n",
        "std_error = sample_std / np.sqrt(chol_having_disease_sample.size)\n",
        "sample_mean - 2 * std_error, sample_mean + 2 * std_error"
      ],
      "execution_count": null,
      "outputs": [
        {
          "output_type": "execute_result",
          "data": {
            "text/plain": [
              "(229.9915204649291, 259.9284795350709)"
            ]
          },
          "metadata": {
            "tags": []
          },
          "execution_count": 21
        }
      ]
    },
    {
      "cell_type": "markdown",
      "metadata": {
        "id": "tKX_a6-B9WOP"
      },
      "source": [
        "So, with 95% probability (or confidence), the population mean $\\mu$ of cholesterol level for the patients having heart disease will fall in the above interval. In fact, the population mean is 242.23 which falls in the above interval.\n",
        "\n",
        "Similarly, using CLT, with 68% probability (or confidence), you can say that the population mean $\\mu$ of cholesterol level for the patients having heart disease will lie between $\\left(\\text{sample mean} - \\frac{\\text{sample standard deviation}}{\\sqrt{\\text{sample size}}}\\right)$ and $\\left(\\text{sample mean} + \\frac{\\text{sample standard deviation}}{\\sqrt{\\text{sample size}}}\\right)$\n",
        "\n",
        "\n",
        "Now, with 68% probability (or confidence), calculate the population mean of cholesterol level for the patients having heart disease using the sample mean and sample standard deviation."
      ]
    },
    {
      "cell_type": "code",
      "metadata": {
        "id": "oLUKWJc97MZf",
        "colab": {
          "base_uri": "https://localhost:8080/"
        },
        "outputId": "0e0d5425-3cbe-44ad-a1b5-9638ba7d28e9"
      },
      "source": [
        "# S2.6: Calculate the 68% confidence interval for the population mean of cholesterol level using the sample mean and standard error.\n",
        "sample_mean - std_error, sample_mean + std_error"
      ],
      "execution_count": null,
      "outputs": [
        {
          "output_type": "execute_result",
          "data": {
            "text/plain": [
              "(237.47576023246455, 252.44423976753546)"
            ]
          },
          "metadata": {
            "tags": []
          },
          "execution_count": 22
        }
      ]
    },
    {
      "cell_type": "markdown",
      "metadata": {
        "id": "sfJVkSIJ7j7i"
      },
      "source": [
        "So, with 68% probability (or confidence), the population mean $\\mu$ of cholesterol level for the patients having heart disease will fall in the above interval. Since the probability is slightly lower, the population mean (which is 242.23 in this case) may or may not fall in the above interval.\n",
        "\n",
        "Now lastly, let's calculate the mean of cholesterol level for the patients not having heart disease to compare it with the average cholesterol level for the patients having heart disease."
      ]
    },
    {
      "cell_type": "code",
      "metadata": {
        "id": "2N7fhAGDLwRE",
        "colab": {
          "base_uri": "https://localhost:8080/"
        },
        "outputId": "4ee56f4e-c758-44a2-dff7-30a424a03adf"
      },
      "source": [
        "# S2.7: Calculate the population mean of the cholesterol level for the patients not having heart disease.\n",
        "chol_not_having_disease = df.loc[df['target'] == 0, 'chol']\n",
        "chol_not_having_disease.mean()"
      ],
      "execution_count": null,
      "outputs": [
        {
          "output_type": "execute_result",
          "data": {
            "text/plain": [
              "251.08695652173913"
            ]
          },
          "metadata": {
            "tags": []
          },
          "execution_count": 23
        }
      ]
    },
    {
      "cell_type": "markdown",
      "metadata": {
        "id": "LmZkSIW4lbV1"
      },
      "source": [
        "So on comparing only the means of cholesterol values, it is quite clear that on an average people having lower cholesterol levels are likely to have heart disease.\n",
        "\n",
        "You can also create a box plot to visualise the spread of the `chol` values in the case of patients having heart disease and not having heart disease."
      ]
    },
    {
      "cell_type": "code",
      "metadata": {
        "id": "dxBgJme_NEgw",
        "colab": {
          "base_uri": "https://localhost:8080/",
          "height": 248
        },
        "outputId": "7ec0507b-437f-4f17-f5bf-5abb989621b6"
      },
      "source": [
        "# S2.8: Create a box plot to compare the spread of means in the case of patients having heart disease and not having it.\n",
        "plt.figure(figsize = (12, 2), dpi = 108)\n",
        "sns.boxplot(x = 'chol', y = 'target', data = df, orient = 'h')\n",
        "plt.show()"
      ],
      "execution_count": null,
      "outputs": [
        {
          "output_type": "display_data",
          "data": {
            "image/png": "[encoded data removed]",
            "text/plain": [
              "<Figure size 1296x216 with 1 Axes>"
            ]
          },
          "metadata": {
            "tags": [],
            "needs_background": "light"
          }
        }
      ]
    },
    {
      "cell_type": "markdown",
      "metadata": {
        "id": "nkVP2G1jPwdA"
      },
      "source": [
        "From the box plot, you can see that the first, second (or median) and third quartiles of the cholesterol values for the patients having heart disease (shown with the orange colour) are lower as compared to the ones for the patients not having it (shown with the blue colour). Hence, we can confidently say that people having lower cholesterol levels are more likely to have heart disease."
      ]
    },
    {
      "cell_type": "markdown",
      "metadata": {
        "id": "I0XiVy43oHJy"
      },
      "source": [
        "---"
      ]
    },
    {
      "cell_type": "markdown",
      "metadata": {
        "id": "AXBc5OBVZc_E"
      },
      "source": [
        "#### Activity 3: Standard Normalisation (or Scaling)^^\n",
        "\n",
        "Now let's learn the concept of standard normalisation which is another normalisation technique to reduce the size of the numeric values. When you normalise an array/series of values using the standard normalisation technique, the mean of all the normalised values will be 0 and the standard deviation will be 1.\n",
        "\n",
        "Let's normalise all the `chol` values to understand this concept. To do this, you need to calculate  $Z$-score for each value. It is given by the following expression:\n",
        "\n",
        "$$Z = \\frac{X - \\mu}{\\sigma}$$\n",
        "\n",
        "where \n",
        "\n",
        "- $X$ is an observation \n",
        "\n",
        "- $\\mu$ is the population mean\n",
        "\n",
        "- $\\sigma$ is the population standard deviation\n"
      ]
    },
    {
      "cell_type": "code",
      "metadata": {
        "id": "rsl2hOUXcusP",
        "colab": {
          "base_uri": "https://localhost:8080/"
        },
        "outputId": "1684c3d7-6823-4dea-dafb-426d305ce50f"
      },
      "source": [
        "# S3.1 Calculate the z-score for the first observation in the 'chol_having_disease' Pandas series.\n",
        "first_zscore = (chol_having_disease[0] - chol_having_disease.mean()) / chol_having_disease.std()\n",
        "first_zscore"
      ],
      "execution_count": null,
      "outputs": [
        {
          "output_type": "execute_result",
          "data": {
            "text/plain": [
              "-0.17235869454549904"
            ]
          },
          "metadata": {
            "tags": []
          },
          "execution_count": 25
        }
      ]
    },
    {
      "cell_type": "markdown",
      "metadata": {
        "id": "wvDSIzFWd68a"
      },
      "source": [
        "Let's create a function to calculate the $Z$-score for each value in the `chol_having_disease` series."
      ]
    },
    {
      "cell_type": "code",
      "metadata": {
        "id": "99yEHaEUh7eq",
        "colab": {
          "base_uri": "https://localhost:8080/"
        },
        "outputId": "738164b3-3772-4caf-d975-cfbff1d4daa5"
      },
      "source": [
        "# S3.2: Calculate the Z-score for all the values in the 'chol_having_disease' Pandas series.\n",
        "def get_zscore(array):\n",
        "    zscore = (array - np.mean(array)) / np.std(array)\n",
        "    return zscore\n",
        "\n",
        "chol_having_disease_zscores = get_zscore(chol_having_disease)\n",
        "chol_having_disease_zscores "
      ],
      "execution_count": null,
      "outputs": [
        {
          "output_type": "execute_result",
          "data": {
            "text/plain": [
              "0     -0.172883\n",
              "1      0.145526\n",
              "2     -0.716053\n",
              "3     -0.116693\n",
              "4      2.093444\n",
              "         ...   \n",
              "160   -0.041774\n",
              "161    1.868684\n",
              "162   -1.596362\n",
              "163   -1.259222\n",
              "164   -1.259222\n",
              "Name: chol, Length: 165, dtype: float64"
            ]
          },
          "metadata": {
            "tags": []
          },
          "execution_count": 26
        }
      ]
    },
    {
      "cell_type": "markdown",
      "metadata": {
        "id": "J3y8bE4FenwB"
      },
      "source": [
        "Now let's calculate the mean and standard deviation of all the $Z$-scores. The mean value should be 0 and the standard deviation should be 1."
      ]
    },
    {
      "cell_type": "code",
      "metadata": {
        "id": "mcG_inwFaFKJ",
        "colab": {
          "base_uri": "https://localhost:8080/"
        },
        "outputId": "889b8e45-7408-456e-a3d0-d357d3129841"
      },
      "source": [
        "# S3.3: Calculate the mean and standard deviation of all the Z-scores. \n",
        "print(\n",
        "\"\"\"\n",
        "The mean of the Z-scores is {}.\\n\n",
        "The standard deviation of the Z-scores is {}.\n",
        "\"\"\".format(chol_having_disease_zscores.mean(), chol_having_disease_zscores.std())\n",
        ")"
      ],
      "execution_count": null,
      "outputs": [
        {
          "output_type": "stream",
          "text": [
            "\n",
            "The mean of the Z-scores is 1.803271336966921e-16.\n",
            "\n",
            "The standard deviation of the Z-scores is 1.0030441470721063.\n",
            "\n"
          ],
          "name": "stdout"
        }
      ]
    },
    {
      "cell_type": "markdown",
      "metadata": {
        "id": "FLSUsxtEfa0E"
      },
      "source": [
        "The process of calculating the $Z$-score for all the observations in an array/series is called **standard normalisation** or **standard scaling**. \n",
        "\n",
        "*Remember that the mean and standard deviation of the standard normalised values will be always 0 and 1 respectively.*"
      ]
    },
    {
      "cell_type": "markdown",
      "metadata": {
        "id": "mwlmPZa0ZcGQ"
      },
      "source": [
        "---"
      ]
    },
    {
      "cell_type": "markdown",
      "metadata": {
        "id": "ktMqpzEWkMKO"
      },
      "source": [
        "#### Activity 4: Standard Normal Distribution^^^\n",
        "\n",
        "After normalising the values in an array/series (that follows normal distribution), if you plot it again, you will get a normal distribution as shown in the image below.\n",
        "\n",
        "<img src='https://student-datasets-bucket.s3.ap-south-1.amazonaws.com/images/standard-normal-distribution.png' width = 800>\n",
        "\n",
        "The values on the $x$-axis can be represented with their corresponding $Z$-scores.\n",
        "\n",
        "In the case of standard normal distribution, \n",
        "\n",
        "- $\\mu = 0$ therefore, $Z = 0$ and\n",
        "\n",
        "- $\\sigma = 1$ therefore, $Z = 1$\n",
        "\n",
        "So\n",
        "\n",
        "- $\\mu - \\sigma = -1 \\Rightarrow Z = -1$\n",
        "\n",
        "- $\\mu - 2\\sigma = -2 \\Rightarrow Z = -2$\n",
        "\n",
        "- $\\mu - 3\\sigma = -3 \\Rightarrow Z = -3$\n",
        "\n",
        "- $\\mu + \\sigma = 1 \\Rightarrow Z = 1$\n",
        "\n",
        "- $\\mu + 2\\sigma = 2 \\Rightarrow Z = 2$\n",
        "\n",
        "- $\\mu + 3\\sigma = 3 \\Rightarrow Z = 3$\n",
        "\n",
        "\n",
        "\n",
        "\n",
        "Let's, calculate the $Z$-score for all the values in the `chol_not_having_disease` Pandas series and then plot its probability distribution without histogram."
      ]
    },
    {
      "cell_type": "code",
      "metadata": {
        "id": "FxoHjz6KsHNb",
        "colab": {
          "base_uri": "https://localhost:8080/",
          "height": 445
        },
        "outputId": "61cf64d8-ccdb-4679-cf55-09d562719b24"
      },
      "source": [
        "# S4.1: Calculate the Z-score for all the values in the 'chol_not_having_disease' Pandas series and plot its probability distribution.\n",
        "chol_no_disease_zscores = get_zscore(chol_not_having_disease)\n",
        "\n",
        "plt.figure(figsize = (14, 4), dpi = 96)\n",
        "sns.distplot(chol_no_disease_zscores, hist = False, bins = 'sturges')\n",
        "plt.xlabel('Z-score', fontsize = 11)\n",
        "plt.ylabel('Probability', fontsize = 11)\n",
        "plt.title('Standard Normal Distribution of Cholesterol Levels for Patients Not Having Heart Disease', fontsize = 14)\n",
        "plt.axvline(x = chol_no_disease_zscores.mean(), color = 'r')\n",
        "plt.show()"
      ],
      "execution_count": null,
      "outputs": [
        {
          "output_type": "stream",
          "text": [
            "/usr/local/lib/python3.6/dist-packages/seaborn/distributions.py:2551: FutureWarning: `distplot` is a deprecated function and will be removed in a future version. Please adapt your code to use either `displot` (a figure-level function with similar flexibility) or `kdeplot` (an axes-level function for kernel density plots).\n",
            "  warnings.warn(msg, FutureWarning)\n"
          ],
          "name": "stderr"
        },
        {
          "output_type": "display_data",
          "data": {
            "image/png": "[encoded data removed]",
            "text/plain": [
              "<Figure size 1344x384 with 1 Axes>"
            ]
          },
          "metadata": {
            "tags": [],
            "needs_background": "light"
          }
        }
      ]
    },
    {
      "cell_type": "markdown",
      "metadata": {
        "id": "HtgyLs0SYdKi"
      },
      "source": [
        "Since the `chol_not_having_disease` follows normal distribution, its normalised version, i.e., `chol_no_disease_zscores` also follows normal distribution.\n",
        "\n",
        "Let's stop here. In the next class, we will learn to calculate probability of a continuous random variable using $Z$-score and cumulative distribution function."
      ]
    },
    {
      "cell_type": "markdown",
      "metadata": {
        "id": "BY4GdquPkK5h"
      },
      "source": [
        "---"
      ]
    },
    {
      "cell_type": "markdown",
      "metadata": {
        "id": "4v58Wd5WVILY"
      },
      "source": [
        "### Activities\n",
        "\n",
        "**Teacher Activities**\n",
        "\n",
        "1. CLT II and Standard Normal Distribution (Class Copy)\n",
        "\n",
        "   https://colab.research.google.com/drive/1zMfvzaR8w0TiYs88RqrePzUYFCGi2wYI\n",
        "\n",
        "2. CLT II and Standard Normal Distribution (Reference)\n",
        "\n",
        "   https://colab.research.google.com/drive/1bv9YcbhV9tI-CdUd3tI9jrIMc-_SsrO2"
      ]
    },
    {
      "cell_type": "markdown",
      "metadata": {
        "id": "Agrv1_GIVHss"
      },
      "source": [
        "---"
      ]
    }
  ]
}