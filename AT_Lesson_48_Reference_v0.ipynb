{
  "nbformat": 4,
  "nbformat_minor": 0,
  "metadata": {
    "colab": {
      "provenance": [],
      "collapsed_sections": [],
      "include_colab_link": true
    },
    "kernelspec": {
      "name": "python3",
      "display_name": "Python 3"
    }
  },
  "cells": [
    {
      "cell_type": "markdown",
      "metadata": {
        "id": "view-in-github",
        "colab_type": "text"
      },
      "source": [
        "<a href=\"https://colab.research.google.com/github/jswap21/AG/blob/main/AT_Lesson_48_Reference_v0.ipynb\" target=\"_parent\"><img src=\"https://colab.research.google.com/assets/colab-badge.svg\" alt=\"Open In Colab\"/></a>"
      ]
    },
    {
      "cell_type": "markdown",
      "metadata": {
        "id": "Vcvmc_dgH1Ry"
      },
      "source": [
        "# Lesson 48: Capstone Class - Probability Calculation For Gambling"
      ]
    },
    {
      "cell_type": "markdown",
      "metadata": {
        "id": "MPfuATap1xzk"
      },
      "source": [
        "**WARNING:** The reference notebook is meant **ONLY** for a teacher. Please **DO NOT** share it with any student. The contents of the reference notebook are meant only to prepare a teacher for a class. To conduct the class, use the class copy of the reference notebook. \n",
        "\n",
        "|Particulars|Description|\n",
        "|-|-|\n",
        "|**Topic**|Expected Value, Continuous Random Variable & Probability Density Function|\n",
        "|||\n",
        "|**Class Description**|In this class, a student will learn to calculate the expected value and why one should never gamble|\n",
        "|||\n",
        "|**Class**|C48|\n",
        "|||\n",
        "|**Class Time**|45 minutes|\n",
        "|||\n",
        "|**Goals**|Calculate the average amount you will end up winning or losing if you gamble your money in a game of chances such as a lottery|\n",
        "||Calculate the probability of a continuous random variable in a normal distribution using the probability density function|\n",
        "|||\n",
        "|**Teacher Resources**|Google Account|\n",
        "||Link to Lesson 48 Colab reference notebook|\n",
        "||Laptop with internet connectivity|\n",
        "||Earphones with mic|\n",
        "|||\n",
        "|**Student Resources**|Google Account|\n",
        "||Laptop with internet connectivity|\n",
        "||Earphones with mic|"
      ]
    },
    {
      "cell_type": "markdown",
      "metadata": {
        "id": "T078LXWwigva"
      },
      "source": [
        "---"
      ]
    },
    {
      "cell_type": "markdown",
      "metadata": {
        "id": "uaLOxMkpF0QK"
      },
      "source": [
        "### Warm-up Quiz\n",
        "\n",
        "```\n",
        "TEACHER\n",
        "I have an exciting quiz question for you! Are you ready to answer this question?\n",
        "\n",
        "EXPECTED STUDENT RESPONSE\n",
        "Yes.\n",
        "```\n",
        "\n",
        "**Instructions for the Teacher:**\n",
        "- Please click on the \"Quiz Time\" button on the bottom right corner of your screen to start the In-Class Quiz. <img src='https://student-datasets-bucket.s3.ap-south-1.amazonaws.com/images/quiz-time.png' width = 150>\n",
        "\n",
        "- A quiz will be visible to both you and the student. Encourage the student to answer the quiz question. \n",
        "\n",
        "- The student may choose the wrong option, help the student to think correctly about the question and then answer again. \n",
        "\n",
        "- After the student selects the correct option, the \"End Quiz\" button will start appearing on your screen. <img src='https://student-datasets-bucket.s3.ap-south-1.amazonaws.com/images/end-quiz.png' width = 150>  \n",
        "\n",
        "- Click the \"End quiz\" button to close the quiz pop-up and continue the class. \n",
        "  \n",
        "- Do not spend more than 2 minutes on this quiz.\n",
        "\n",
        "\n"
      ]
    },
    {
      "cell_type": "markdown",
      "metadata": {
        "id": "vrMZFlKCF1TH"
      },
      "source": [
        "---"
      ]
    },
    {
      "cell_type": "markdown",
      "metadata": {
        "id": "Y36SOhIIIcfJ"
      },
      "source": [
        "### Teacher-Student Activities\n",
        "\n",
        "\n",
        "Welcome to the Capstone Class.  We hope that you are ready to step into the ring and face the next challenge!\n",
        "\n",
        "We have been always told to avoid gambling. Today, we will apply concepts like expected value and probability density function to thoroughly understand why lotteries are mediums to lose money. You will also learn the concept of continuous random variable."
      ]
    },
    {
      "cell_type": "markdown",
      "metadata": {
        "id": "aI_I1LXxI5Lg"
      },
      "source": [
        "---"
      ]
    },
    {
      "cell_type": "markdown",
      "metadata": {
        "id": "R5R3b_48nKTP"
      },
      "source": [
        "#### Recap\n",
        "\n",
        "In the MCQ test illustration, The probabilities of the random variables $X = 0, 1, 2, 3, 4$ are\n",
        "\n",
        "- $P(X = 0) = {}^4C_0 \\times \\left(\\frac{1}{4}\\right)^0 \\times \\left(\\frac{3}{4}\\right)^4$\n",
        "\n",
        "- $P(X = 1) = {}^4C_1 \\times \\frac{1}{4} \\times \\left(\\frac{3}{4}\\right)^3$\n",
        "\n",
        "- $P(X = 2) = {}^4C_2 \\times \\left(\\frac{1}{4}\\right)^2 \\times \\left(\\frac{3}{4}\\right)^2$\n",
        "\n",
        "- $P(X = 3) = {}^4C_3 \\times \\left(\\frac{1}{4}\\right)^3 \\times \\frac{3}{4}$\n",
        "\n",
        "- $P(X = 4) = {}^4C_4 \\times \\left(\\frac{1}{4}\\right)^4 \\times \\left(\\frac{3}{4}\\right)^0$\n",
        "\n",
        "In general, in any experiment having total $n$ possible trials, the probability of success in $r$ trials out of $n$ trials is given by \n",
        "\n",
        "$$P(X = r) = {}^nC_r \\times s^r \\times f^{n - r}$$\n",
        "\n",
        "where \n",
        "\n",
        "- ${}^nC_{r} = \\frac{n!}{(n-r)! \\times r!} = {}^nC_{n - r}$\n",
        "\n",
        "- $n$ is a natural number and $r$ is a whole number but $r \\le n$\n",
        "\n",
        "- $s$ denotes the probability of **success**\n",
        "\n",
        "- $f$ denotes the probability of **failure** and $s + f = 1$\n",
        "\n",
        "In the context of the MCQ test illustration, \n",
        "\n",
        "- $n$ is the total number of questions in an MCQ test \n",
        "\n",
        "- $r$ is the number of questions to be solved correctly by fluke out of $n$ questions\n",
        "\n",
        "- ${}^nC_r$ is the number of ways in which $r$ questions can be solved out of $n$ questions correctly by fluke\n",
        "\n",
        "- **success** is choosing the one correct option out of four options and the **failure** is choosing an incorrect option.\n",
        "\n",
        "\n",
        "This is called **binomial distribution**. In other words, the distribution of two terms.\n",
        "\n",
        "Also, the sum of all the probabilities will be equal to one, i.e., \n",
        "\n",
        "$P(X = 0) + P(X = 1) + P(X = 2) + \\dots + P(X = n - 1) + P(X = n) = 1$\n",
        "\n",
        "We can also create functions to calculate the factorial value of a number $n$ and to get the probability of a random variable $X = r$.\n"
      ]
    },
    {
      "cell_type": "code",
      "metadata": {
        "id": "CBXukb_QpBnS",
        "outputId": "ee95273b-0427-4f70-d728-8bbd36bbe5f6",
        "colab": {
          "base_uri": "https://localhost:8080/",
          "height": 34
        }
      },
      "source": [
        "# Functions to calculate the factorial value of a number 'n'.\n",
        "def factorial(num):\n",
        "  factorial = 1\n",
        "  if num < 0:\n",
        "    return \"Undefined.\"\n",
        "  else:\n",
        "    while num > 0:\n",
        "      factorial *= num\n",
        "      num -= 1\n",
        "    return factorial\n",
        "\n",
        "# Function to calculate the probability of a random variable X = r.\n",
        "def prob_random_var(num_trials, random_var, prob_success):\n",
        "  num_trials_choose_random_var = factorial(num_trials) / ((factorial(num_trials - random_var)) * (factorial(random_var))) # nCr \n",
        "  prob_random_var = num_trials_choose_random_var * (prob_success ** random_var) * ((1 - prob_success) ** (num_trials - random_var))\n",
        "  return prob_random_var\n",
        "\n",
        "prob_random_var(4, 4, 0.25)"
      ],
      "execution_count": null,
      "outputs": [
        {
          "output_type": "execute_result",
          "data": {
            "text/plain": [
              "0.00390625"
            ]
          },
          "metadata": {
            "tags": []
          },
          "execution_count": 1
        }
      ]
    },
    {
      "cell_type": "code",
      "metadata": {
        "id": "E3fvlDF48Z1-",
        "outputId": "ac16ce3e-c5cd-4219-e0a9-dec50651a75b",
        "colab": {
          "base_uri": "https://localhost:8080/",
          "height": 34
        }
      },
      "source": [
        "# The probability of solving say 50 questions correctly by fluke in an MCQ test having 100 questions\n",
        "prob_random_var(100, 50, 0.25)"
      ],
      "execution_count": null,
      "outputs": [
        {
          "output_type": "execute_result",
          "data": {
            "text/plain": [
              "4.5073108750863835e-08"
            ]
          },
          "metadata": {
            "tags": []
          },
          "execution_count": 2
        }
      ]
    },
    {
      "cell_type": "markdown",
      "metadata": {
        "id": "gguw7YCDz3gz"
      },
      "source": [
        "---"
      ]
    },
    {
      "cell_type": "markdown",
      "metadata": {
        "id": "iQEsRHRn95Kc"
      },
      "source": [
        "#### Activity 1: Expected Value\n",
        "\n",
        "Let's find out the average number of questions that can be solved correctly by fluke.\n",
        "\n",
        "For this, we need to use the concept of expected value. The expected value is the sum of the product of the random variables with their corresponding probabilities.\n",
        "\n",
        "Let $X$ be a random variable denoting $N$ events $x_1, x_2, x_3 \\dots x_N$ and let $p(x_1), p(x_2), p(x_3) \\dots p(x_N)$ be their corresponding probabilities, then the expected value $E(X)$ is given by \n",
        "\n",
        "$$E(X) = x_1 p(x_1) + x_2 p(x_2) + x_3 p(x_3) + \\dots + x_N p(x_N)$$\n",
        "\n",
        "With this idea in mind, let's now try to find out the average number of questions that can be solved correctly by fluke in an MCQ test having 100 questions.\n"
      ]
    },
    {
      "cell_type": "code",
      "metadata": {
        "id": "OhZvFKmdz4Xw",
        "outputId": "2a360613-e722-46a5-ca8b-ceab7bbbc73d",
        "colab": {
          "base_uri": "https://localhost:8080/",
          "height": 34
        }
      },
      "source": [
        "# S1.1: Find the average number of questions that can be solved correctly by fluke in an MCQ test having 100 questions.\n",
        "import numpy as np\n",
        "rand_var = np.arange(101)\n",
        "prob_rand_var_list = [prob_random_var(100, i, 0.25) for i in range(101)]\n",
        "expected_val = np.sum(rand_var * np.array(prob_rand_var_list))\n",
        "expected_val"
      ],
      "execution_count": null,
      "outputs": [
        {
          "output_type": "execute_result",
          "data": {
            "text/plain": [
              "25.0"
            ]
          },
          "metadata": {
            "tags": []
          },
          "execution_count": 3
        }
      ]
    },
    {
      "cell_type": "markdown",
      "metadata": {
        "id": "I88z7qE1aF7C"
      },
      "source": [
        "So on an average, you are expected to solve 25 questions correctly by fluke in an MCQ test.\n",
        "\n",
        "In the above code:\n",
        "\n",
        "1. A NumPy array is created containing the values of all the random variables, i.e., $X = 0, 1, 2, \\dots 100$ where\n",
        "\n",
        "  - 0 denotes solving 0 questions correctly by fluke, \n",
        "  \n",
        "  - 1 denotes solving 1 question correctly by fluke,\n",
        "\n",
        "  - 2 denotes solving 2 questions correctly by fluke,\n",
        "  \n",
        "    ... \n",
        "    \n",
        "  - 100 denotes solving 100 questions correctly by fluke\n",
        "\n",
        "2. A Python list is created containing the probabilities of all the above 101 events.\n",
        "\n",
        "3. The above list is then converted to a NumPy array. Then each value of the random variable is multiplied with its corresponding probability. Then all the products are added to get the expected value or theoretical average.\n",
        "\n",
        "**Note:** The expected value gives a theoretical average. The actual average may differ from the theoretical average by some margin. E.g., in an MCQ test having 100 questions, the expected value tells us that on an average, we can expect to solve 25 questions correctly by fluke.\n",
        "\n",
        "Interestingly, in the case of a binomial distribution, the expected value is the highly likely event. Let's verify this fact by finding out the most likely event in the case of solving questions correctly by fluke in an MCQ test containing 100 questions.\n"
      ]
    },
    {
      "cell_type": "code",
      "metadata": {
        "id": "vmv85wf-1WgS",
        "outputId": "2f825074-99f1-4574-fbb3-85241d6f9862",
        "colab": {
          "base_uri": "https://localhost:8080/",
          "height": 51
        }
      },
      "source": [
        "# S1.2: Find the most likely event and its probability.\n",
        "max_prob = np.max(np.array(prob_rand_var_list)) # Find out the maximum probability.\n",
        "max_num_ques = prob_rand_var_list.index(max_prob) # Find out the event corresponding to the maximum probability.\n",
        "print(f\"The most likely event is solving {max_num_ques} questions correctly by fluke.\\nIts probability is {max_prob:.3f}\")"
      ],
      "execution_count": null,
      "outputs": [
        {
          "output_type": "stream",
          "text": [
            "The most likely event is solving 25 questions correctly by fluke.\n",
            "Its probability is 0.092\n"
          ],
          "name": "stdout"
        }
      ]
    },
    {
      "cell_type": "markdown",
      "metadata": {
        "id": "A7BdV-Hs5iCW"
      },
      "source": [
        "So in case of the binomial distribution, the most likely event is the same as the expected value.\n",
        "\n",
        "We can also create a line plot to visualise the events (denoted by random variables) and their corresponding probabilities, to spot the event having the highest probability."
      ]
    },
    {
      "cell_type": "code",
      "metadata": {
        "id": "4fu6_G9z0Wiu",
        "outputId": "26964d7c-af1e-4754-b0b1-ad34cf0c7217",
        "colab": {
          "base_uri": "https://localhost:8080/",
          "height": 404
        }
      },
      "source": [
        "# S1.3: Create a line plot of random variables and their corresponding probabilities in the case of an MCQ test having 100 questions.\n",
        "import matplotlib.pyplot as plt\n",
        "\n",
        "plt.figure(figsize=(18, 6))\n",
        "plt.title(\"# Questions That Can Be Solved Correctly By Fluke & Their Probabilities\")\n",
        "plt.axvline(max_num_ques, color='r', \n",
        "            label=f'Max # of questions that can be solved correctly by fluke = {max_num_ques}')\n",
        "# Creates a vertical line to locate the random variable denoting the most likely event to occur. \n",
        "plt.axhline(max_prob, color='g', \n",
        "            label=f'Probability of solving max # of questions correctly by fluke = {max_prob:.2f}')\n",
        "# Creates a horizontal line to locate the probability of the most likely event to occur.\n",
        "plt.scatter(rand_var, prob_rand_var_list)\n",
        "plt.xlabel(\"Random variable X = r\")\n",
        "plt.ylabel(\"Probability of random variable X = r\")\n",
        "plt.grid(which='major', axis='both')\n",
        "plt.legend()\n",
        "plt.show()"
      ],
      "execution_count": null,
      "outputs": [
        {
          "output_type": "display_data",
          "data": {
            "image/png": "[encoded data removed]",
            "text/plain": [
              "<Figure size 1296x432 with 1 Axes>"
            ]
          },
          "metadata": {
            "tags": [],
            "needs_background": "light"
          }
        }
      ]
    },
    {
      "cell_type": "markdown",
      "metadata": {
        "id": "-cZnSdHq9-03"
      },
      "source": [
        "---"
      ]
    },
    {
      "cell_type": "markdown",
      "metadata": {
        "id": "LMN_q3mq9_w2"
      },
      "source": [
        "#### Activity 2: Why Should You Never Gamble?\n",
        "\n",
        "Suppose that you play a game in which you roll two standard 6-sided dice. You win INR 1500 if the sum of the numbers on the dice is 2 and lose INR 50 otherwise. How much do you expect to win on average per trial?\n",
        "\n",
        "There are 36 possible outcomes of rolling two standard 6-sided dice. They are illustrated in the image shown below.\n",
        "\n",
        "<img src='https://student-datasets-bucket.s3.ap-south-1.amazonaws.com/images/two_dice_outcomes.png' width=600>\n",
        "\n",
        "The sum of the numbers on the dice will be 2 if and only if the outcome is two $1s$, i.e., $\\{1, 1\\}$\n",
        "\n",
        "So, let us define a random variable $X = x$ where $x$ some event. Let $x_1$ denotes that you win INR 1500 after rolling two dice. This is possible only if the outcome of rolling two dice is two $1s$, i.e., $\\{1, 1\\}$. \n",
        "\n",
        "Similarly, let $x_2$ denotes that you lose INR 50 after rolling two dice. This is possible when the outcome is not two $1s$, i.e., $x_2 = \\{1', 1'\\}$\n",
        "\n",
        "So, the probability of winning INR 1500 is  $P(X = x_1) = \\frac{1}{36}$ because there is only one outcome out of 36 possible outcomes.\n",
        "\n",
        "Hence, the probability of losing INR 50 is  $P(X = x_2) = \\frac{35}{36}$ because there are 35 outcomes out of 36 possible outcomes in which the sum of the numbers on two dice is not 2.\n",
        "\n",
        "So, your expected winnings after playing one game of rolling two dice are \n",
        "\n",
        "$E(X) = x_1 p(x_1) + x_2 p(x_2) = 1500 \\times \\frac{1}{36} + (-50) \\times \\frac{35}{36}$\n",
        "\n",
        "\n"
      ]
    },
    {
      "cell_type": "code",
      "metadata": {
        "id": "6589lwa2klft",
        "outputId": "3d4800d1-7c5c-4c77-e9af-31060638ac90",
        "colab": {
          "base_uri": "https://localhost:8080/",
          "height": 34
        }
      },
      "source": [
        "# S2.1: Calculate your expected winnings after rolling two dice in the above problem.\n",
        "expected_winnings = 1500 / 36 - 50 * 35 / 36\n",
        "expected_winnings"
      ],
      "execution_count": null,
      "outputs": [
        {
          "output_type": "execute_result",
          "data": {
            "text/plain": [
              "-6.94444444444445"
            ]
          },
          "metadata": {
            "tags": []
          },
          "execution_count": 6
        }
      ]
    },
    {
      "cell_type": "markdown",
      "metadata": {
        "id": "42RiH0yElFpy"
      },
      "source": [
        "So on an average per trial, you are likely to lose INR $6.945$ in this game. The negative sign denotes that you are likely to lose money. If you play this game say 100 times, then you are likely to lose INR $6.945 \\times 100 = 694.5$ after 100 trials.\n",
        "\n",
        "In general, for a game, if the probability of the favourable outcome(s) is very low, then you should **NOT** gamble on that game because it has been designed in such a way that on an average a player is likely to lose their money. The lotteries are specifically designed for people to lose their money on an average. Very rarely there is a jackpot winner. "
      ]
    },
    {
      "cell_type": "markdown",
      "metadata": {
        "id": "vqpQXzLLmb-n"
      },
      "source": [
        "---"
      ]
    },
    {
      "cell_type": "markdown",
      "metadata": {
        "id": "DsYdc6jOjcmL"
      },
      "source": [
        "#### Activity 3: Continuous Random Variable\n",
        "\n",
        "Now let's learn the concept of a continuous random variable. But first, recall the bell curve example. The heights of people follow the **normal distribution**. If you create a histogram to plot the heights of 10,000 individuals, the arrangement of the bars in the histogram will appear to form a **bell shape**. \n"
      ]
    },
    {
      "cell_type": "code",
      "metadata": {
        "id": "RCq4dtszjfel",
        "outputId": "90f631f4-5445-44fb-d8bb-44a8d16886aa",
        "colab": {
          "base_uri": "https://localhost:8080/",
          "height": 122
        }
      },
      "source": [
        "# NumPy array containing 10,000 random normally distributed numbers having a mean of 165 cm and a standard deviation.\n",
        "import numpy as np\n",
        "import matplotlib.pyplot as plt\n",
        "import seaborn as sns\n",
        "\n",
        "height_mean = 165\n",
        "height_std = 15\n",
        "heights = np.random.normal(height_mean, height_std, size=10000) \n",
        "heights[:10]"
      ],
      "execution_count": null,
      "outputs": [
        {
          "output_type": "stream",
          "text": [
            "/usr/local/lib/python3.6/dist-packages/statsmodels/tools/_testing.py:19: FutureWarning: pandas.util.testing is deprecated. Use the functions in the public API at pandas.testing instead.\n",
            "  import pandas.util.testing as tm\n"
          ],
          "name": "stderr"
        },
        {
          "output_type": "execute_result",
          "data": {
            "text/plain": [
              "array([144.50453629, 148.73039902, 186.4378244 , 182.35539067,\n",
              "       164.71438002, 162.75153459, 172.70233439, 138.74806797,\n",
              "       163.57492371, 169.6173599 ])"
            ]
          },
          "metadata": {
            "tags": []
          },
          "execution_count": 7
        }
      ]
    },
    {
      "cell_type": "markdown",
      "metadata": {
        "id": "F4nR3pOfjgGE"
      },
      "source": [
        "The `np.random.normal()` function takes mean, standard deviation and size (number of numbers to be generated) as inputs and returns a numpy array containing normally distributed random numbers whose mean and standard deviation is very close to the provided mean and standard deviation values."
      ]
    },
    {
      "cell_type": "code",
      "metadata": {
        "id": "kjmh3p5DjlAQ",
        "outputId": "ae8a4d53-cf1a-4d1a-ec0c-264cd934cfb3",
        "colab": {
          "base_uri": "https://localhost:8080/",
          "height": 350
        }
      },
      "source": [
        "# Histogram for the heights.\n",
        "plt.figure(figsize=(20, 5))\n",
        "plt.title('Histogram for Heights (in cm)')\n",
        "plt.hist(heights, bins='sturges', edgecolor='black') # 'sturges' is one of the ways to compute the number of bins in a histogram.\n",
        "plt.axvline(np.mean(heights), color='red', label=f'Mean height = {np.mean(heights):.2f} cm', linewidth=2) # Creates a vertical line \n",
        "plt.xlabel('Height (in cm)')\n",
        "plt.ylabel(\"Number of observations\")\n",
        "plt.legend()\n",
        "plt.show()"
      ],
      "execution_count": null,
      "outputs": [
        {
          "output_type": "display_data",
          "data": {
            "image/png": "[encoded data removed]",
            "text/plain": [
              "<Figure size 1440x360 with 1 Axes>"
            ]
          },
          "metadata": {
            "tags": [],
            "needs_background": "light"
          }
        }
      ]
    },
    {
      "cell_type": "code",
      "metadata": {
        "id": "1MKqLi9xjo6N",
        "outputId": "95f4d3e1-55c0-423a-926a-0daa87fdf448",
        "colab": {
          "base_uri": "https://localhost:8080/",
          "height": 368
        }
      },
      "source": [
        "# Bell curve using the 'distplot()' function.\n",
        "plt.figure(figsize=(12, 4), dpi=96)\n",
        "plt.title(\"Bell Curve for Heights (in cm)\")\n",
        "sns.distplot(heights, hist=False, bins='sturges') # 'sturges' is one of the ways to compute the number of bins in a histogram.\n",
        "plt.axvline(np.mean(heights), color='red', label=f'Mean height = {np.mean(heights):.2f} cm', linewidth=2)\n",
        "plt.ylabel(\"Probability density\") # The 'y-axis' on the bell curve represent the probability density.\n",
        "plt.legend()\n",
        "plt.grid(which='major', axis='y', color='lightgrey')\n",
        "plt.show()"
      ],
      "execution_count": null,
      "outputs": [
        {
          "output_type": "display_data",
          "data": {
            "image/png": "[encoded data removed]",
            "text/plain": [
              "<Figure size 1152x384 with 1 Axes>"
            ]
          },
          "metadata": {
            "tags": [],
            "needs_background": "light"
          }
        }
      ]
    },
    {
      "cell_type": "markdown",
      "metadata": {
        "id": "kN4SmQjwjnmv"
      },
      "source": [
        "Recall that \n",
        "\n",
        "- Approx. $68 \\%$ of the values lie between $\\mu - \\sigma$ and $\\mu + \\sigma$. In other words, approx. $68 \\%$ of the values lie within **one-sigma** around the mean.\n",
        "\n",
        "- Approx. $95 \\%$ of the values lie between $\\mu - 2 \\sigma$ and $\\mu + 2 \\sigma$. In other words, approx. $95 \\%$ of the values lie within **two-sigma** around the mean.\n",
        "\n",
        "- Approx. $99.7 \\%$ of the values lie between $\\mu - 3 \\sigma$ and $\\mu + 3 \\sigma$. In other words, approx. $99.7 \\%$ of the values lie within **three-sigma** around the mean.\n",
        "\n",
        "where $\\mu$ and $\\sigma$ are mean and standard deviation respectively.\n",
        "\n",
        "In the bell curve above, you can see the probability density values on the $y-$axis. We will now learn how to calculate these probability density values for which we need to understand a very simple concept called a **continuous random variable**. \n",
        "\n",
        "Suppose you want to know what is the probability that a person's height would be anything between 150 cm and 180 cm. You might think that the possible heights in this range are $150, 151, 152, \\dots 180$. But a person's height could also be a fractional (or decimal) value, say 157.768 cm. It could be any number either an integer or a decimal number. Hence, there are infinite (or uncountable) numbers between 150 and 180. In fact, there are infinite numbers between any two numbers; even two consecutive integers. Eg, there are infinite numbers between 150 and 151. Such values which need **NOT** be integers are called continuous values. In probability, to represent continuous values, we need to define a **continuous random variable**. \n",
        "\n",
        "So, in the case of finding the probability that a person's height would be between 150 cm and 180 cm, you need to define a random variable $X$ where $150 \\le X \\le 180$. Hence, we need to find the probability of the random variable $150 \\le X \\le 180$.\n",
        "\n"
      ]
    },
    {
      "cell_type": "markdown",
      "metadata": {
        "id": "vePowveJlIEt"
      },
      "source": [
        "---"
      ]
    },
    {
      "cell_type": "markdown",
      "metadata": {
        "id": "Dy6PgobxlI0n"
      },
      "source": [
        "#### Activity 4: Probability Density Function\n",
        "\n",
        "To calculate the probability of a continuous random variable, we have to use the **Probability Density Function (PDF)**, i.e.,\n",
        "\n",
        "\n",
        "$$\\rho(x) = \\frac{1}{\\sigma \\sqrt{2 \\pi}}e^{-\\frac{1}{2\\sigma^2}(x - \\mu)^2}$$\n",
        "\n",
        "where, \n",
        "\n",
        "- $\\rho (x)$ which is read as **Rho** is dependent on the value of $x$ which is some arbitrary value of the random variable $X$\n",
        "\n",
        "- $\\sigma$ is the standard deviation of the sample. In this case, $\\sigma$ is the standard deviation of the height values\n",
        "\n",
        "- $\\mu$ is the mean value of the sample. In this case, $\\mu$ is the mean height\n",
        "\n",
        "- $e = 2.71$ and $\\pi = 3.14$\n",
        "\n",
        "Let's create a Python function to calculate the individual probabilities of all the heights and store them in an array."
      ]
    },
    {
      "cell_type": "code",
      "metadata": {
        "id": "xwSkuuW3lUia"
      },
      "source": [
        "# S3.1: Create a Python function to calculate the individual probabilities of all the heights.\n",
        "def prob_density_func(arr, mean, std):\n",
        "  coeff = 1 / (std * np.sqrt(2 * np.pi))\n",
        "  power_of_e = np.exp(-(arr - mean) ** 2 / (2 * std ** 2))\n",
        "  prob = coeff * power_of_e\n",
        "  return prob"
      ],
      "execution_count": null,
      "outputs": []
    },
    {
      "cell_type": "markdown",
      "metadata": {
        "id": "OYVUnpknUnds"
      },
      "source": [
        "Now, sorted the values in the `heights` array using the `sort()` function in the NumPy module. \n",
        "\n",
        "**Syntax:** `numpy.sort(numpy_array)`\n",
        "\n",
        "Then calculate the individual probability values for all the heights using the probability density function that you created above."
      ]
    },
    {
      "cell_type": "code",
      "metadata": {
        "id": "J3gCx-FclWz0",
        "outputId": "8eda560c-f970-44d9-b898-c6327b2125fe",
        "colab": {
          "base_uri": "https://localhost:8080/",
          "height": 68
        }
      },
      "source": [
        "# S3.2: Sort the 'heights' array and then calculate the individual probabilities of all the heights.\n",
        "sorted_heights = np.sort(heights)\n",
        "prob_array = prob_density_func(sorted_heights, np.mean(heights), np.std(heights))\n",
        "prob_array[:10]"
      ],
      "execution_count": null,
      "outputs": [
        {
          "output_type": "execute_result",
          "data": {
            "text/plain": [
              "array([2.64381271e-05, 4.21230136e-05, 4.28491763e-05, 9.00271658e-05,\n",
              "       1.25427087e-04, 1.80561465e-04, 1.93641901e-04, 2.01254429e-04,\n",
              "       2.77092216e-04, 2.97596521e-04])"
            ]
          },
          "metadata": {
            "tags": []
          },
          "execution_count": 11
        }
      ]
    },
    {
      "cell_type": "markdown",
      "metadata": {
        "id": "3SWUXBB_VCUD"
      },
      "source": [
        "Now, let's plot the `sorted_heights` and `prob_array` values to see if we can get a bell curve."
      ]
    },
    {
      "cell_type": "code",
      "metadata": {
        "id": "qqx5PEC5lY1o",
        "outputId": "da416082-18ac-491b-a09e-fe4dba6f45ab",
        "colab": {
          "base_uri": "https://localhost:8080/",
          "height": 334
        }
      },
      "source": [
        "# S3.3: Create a line plot for the sorted heights and the corresponding probability values.\n",
        "plt.figure(figsize=(15, 5))\n",
        "plt.plot(sorted_heights, prob_array, color = 'black', linewidth = 2.5)\n",
        "\n",
        "plt.xlabel(\"Height (in cm)\")\n",
        "plt.ylabel(\"Probability Density\")\n",
        "plt.show()"
      ],
      "execution_count": null,
      "outputs": [
        {
          "output_type": "display_data",
          "data": {
            "image/png": "[encoded data removed]",
            "text/plain": [
              "<Figure size 1080x360 with 1 Axes>"
            ]
          },
          "metadata": {
            "tags": [],
            "needs_background": "light"
          }
        }
      ]
    },
    {
      "cell_type": "markdown",
      "metadata": {
        "id": "S1IZsslYldC9"
      },
      "source": [
        "The above curve looks almost exactly like the bell curve we created using the `distplot()` function of the `seaborn` module. It is called a probability density curve or normal distribution or bell curve. Every point on the above curve can be represented using the probability density function, i.e., $\\rho(x) = \\frac{1}{\\sigma \\sqrt{2 \\pi}}e^{-\\frac{1}{2\\sigma^2}(x - \\mu)^2}$\n",
        "\n",
        "To calculate probabilities of a continuous random variable, we have to calculate the area of the region that lies below the curve. Hence, to find the probability of the random variable $150 \\le X \\le 180$, we need to calculate the area of the shaded region as shown in the image below.\n",
        "\n",
        "<img src = \"https://student-datasets-bucket.s3.ap-south-1.amazonaws.com/images/bell_curve.png\" width=800>\n",
        "\n",
        "The region in the above curve is enclosed between $X = 150, X = 180$ and $\\rho(x) = \\frac{1}{\\sigma \\sqrt{2 \\pi}}e^{-\\frac{1}{2\\sigma^2}(x - \\mu)^2}$ \n",
        "\n",
        "To find the area of a region, we use integration. In this case, we need to find the area of the shaded region enclosed between $X = 150, X = 180$ and $\\rho(x) = \\frac{1}{\\sigma \\sqrt{2 \\pi}}e^{-\\frac{1}{2\\sigma^2}(x - \\mu)^2}$. \n",
        "\n",
        "Therefore, the expression to calculate the area of a region is given as\n",
        "\n",
        "$$A = \\int_{X = 150}^{X = 180} \\rho(x) $$\n",
        "\n",
        "In this case, the area represents the probability, so the above expression becomes\n",
        "\n",
        "$$P(150 \\le X \\le 180) = \\int_{150}^{180} \\rho (x) dx$$\n",
        "\n",
        "After substituting the values of $\\mu$ and $\\sigma$ in the PDF, we get\n",
        "\n",
        "$$\\Rightarrow \\rho (x) = \\frac{1}{15 \\sqrt{2 \\pi}}e^{-\\frac{1}{450} (x - 165)^2}$$\n",
        "\n",
        "Therefore\n",
        "\n",
        "$$\\Rightarrow P(150 \\le X \\le 180) = \\int_{150}^{180} \\frac{1}{15 \\sqrt{2 \\pi}}e^{-\\frac{1}{450} (x - 165)^2} dx$$\n",
        "\n",
        "If we can solve the above integration, we will get the probability of a person having a height between 150 cm and 180 cm.\n",
        "\n",
        "To solve the above integration, we have to import the `integrate` module from the `scipy` package. Then we need to use the `quad()` function. It takes the following input:\n",
        "\n",
        "1. The function which needs to be integrated. In this case, the PDF, i.e., `prob_density_func` function needs to be integrated, \n",
        "\n",
        "2. The lower and upper limits of the random variable. In this case, $X = 150$ and $X = 180$ are lower and upper limits respectively.\n",
        "\n",
        "3. The parameters of the above probability density function which needs to be integrated. In this case, the parameters of the `prob_density_func` are the mean height = 165 cm and the standard deviation height = 180 cm.\n",
        "\n",
        "The `quad()` function returns a tuple in which the first item is the required area of the region (or probability value).\n"
      ]
    },
    {
      "cell_type": "code",
      "metadata": {
        "id": "0SOxCLCVlgGa",
        "outputId": "fab2ed45-e6f1-4af6-f020-17285ead11b5",
        "colab": {
          "base_uri": "https://localhost:8080/",
          "height": 34
        }
      },
      "source": [
        "# T3.1: Find the probability of the random variable 150 <= X <= 180.\n",
        "from scipy import integrate\n",
        "\n",
        "req_prob = integrate.quad(prob_density_func, 150, 180, args = (np.mean(heights), np.std(heights)))\n",
        "req_prob"
      ],
      "execution_count": null,
      "outputs": [
        {
          "output_type": "execute_result",
          "data": {
            "text/plain": [
              "(0.6789887356418809, 7.538289277707399e-15)"
            ]
          },
          "metadata": {
            "tags": []
          },
          "execution_count": 13
        }
      ]
    },
    {
      "cell_type": "markdown",
      "metadata": {
        "id": "QM_926i6liUy"
      },
      "source": [
        "The area of the curve enclosed between $X = 150, X = 180$ and $\\rho(x) = \\frac{1}{\\sigma \\sqrt{2 \\pi}}e^{-\\frac{1}{2\\sigma^2}(x - \\mu)^2}$ is $0.68$ which is also the probability of a person having a height between 150 cm and 180 cm. In terms of percentage, the probability of a person having a height between 150 cm and 180 cm is $68 \\%$ approx. \n",
        "\n",
        "We already learnt that $68 \\%$ values between **one-sigma** about mean in a normal distribution. In this class, we have kind of verified this fact using the concept of continuous random variable and probability density function.\n",
        "\n",
        "Similarly, you can verify the probability values for the **two-sigma** and **three-sigma** cases."
      ]
    },
    {
      "cell_type": "code",
      "metadata": {
        "id": "qnQPjDfdlokR",
        "outputId": "1e88e098-352f-4f74-ee11-23d808bc9200",
        "colab": {
          "base_uri": "https://localhost:8080/",
          "height": 34
        }
      },
      "source": [
        "# S3.4: Find the probability of the random variable 135 <= X <= 195.\n",
        "two_sigma = integrate.quad(prob_density_func, 135, 195, args = (np.mean(heights), np.std(heights)))\n",
        "two_sigma"
      ],
      "execution_count": null,
      "outputs": [
        {
          "output_type": "execute_result",
          "data": {
            "text/plain": [
              "(0.9528292434862674, 1.487071254108716e-11)"
            ]
          },
          "metadata": {
            "tags": []
          },
          "execution_count": 14
        }
      ]
    },
    {
      "cell_type": "code",
      "metadata": {
        "id": "d1GRabk-lq5A",
        "outputId": "c4bb5a94-923b-4194-a214-e04b31218f19",
        "colab": {
          "base_uri": "https://localhost:8080/",
          "height": 34
        }
      },
      "source": [
        "# S3.5: Find the probability of the random variable 120 <= X <= 210.\n",
        "three_sigma = integrate.quad(prob_density_func, 120, 210, args = (np.mean(heights), np.std(heights)))\n",
        "three_sigma"
      ],
      "execution_count": null,
      "outputs": [
        {
          "output_type": "execute_result",
          "data": {
            "text/plain": [
              "(0.9970905429645547, 1.1069928750687141e-14)"
            ]
          },
          "metadata": {
            "tags": []
          },
          "execution_count": 15
        }
      ]
    },
    {
      "cell_type": "code",
      "metadata": {
        "id": "iKKfJB6Rls4u",
        "outputId": "ba4cda01-9307-492d-9932-261aa66d1846",
        "colab": {
          "base_uri": "https://localhost:8080/",
          "height": 34
        }
      },
      "source": [
        "# S3.6: Find the probability of the random variable 121 <= X <= 147.\n",
        "req_ans = integrate.quad(prob_density_func, 121, 147, args = (np.mean(heights), np.std(heights)))\n",
        "req_ans"
      ],
      "execution_count": null,
      "outputs": [
        {
          "output_type": "execute_result",
          "data": {
            "text/plain": [
              "(0.11471808575875757, 1.2736266015029593e-15)"
            ]
          },
          "metadata": {
            "tags": []
          },
          "execution_count": 16
        }
      ]
    },
    {
      "cell_type": "markdown",
      "metadata": {
        "id": "_LuEG2lFGT-i"
      },
      "source": [
        "---"
      ]
    },
    {
      "cell_type": "markdown",
      "metadata": {
        "id": "JdQnRq5elzy9"
      },
      "source": [
        "#### Activity 6: Fill Area Using the `fill_between()` Function \n",
        "\n",
        "Let's create the following bell curve using the `matplotlib.pyplot` module.\n",
        "\n",
        "<img src = \"https://student-datasets-bucket.s3.ap-south-1.amazonaws.com/images/bell_curve.png\" width=800>\n",
        "\n",
        "To create the above curve, you need to follow the steps described below.\n",
        "\n",
        "1. Slice the `heights` array such that the resulting array containing heights between 150 cm and 180 cm.\n",
        "\n",
        "2. Create the line plot between `sorted_heights` and `prob_array` arrays using the `plot()` function. The curve should look like a bell-shaped curve.\n",
        "\n",
        "3. Use the `fill_between()` function to fill the area below the PDF, $X = 150$ and $X = 180$. It takes the following values as inputs:\n",
        "\n",
        "  - `x` which should be an array containing the values for the horizontal axis. In this case, the sorted `numpy` array containing heights values between $X = 150$ and $X = 180$.\n",
        "\n",
        "  - `y1` is an array containing the values corresponding to the values in `x` array. In this case the probability density values for the heights between 150 cm and 180 cm.\n",
        "\n",
        "  - `alpha` (optional) to provide translucency to the shaded region. Its value ranges between 0 and 1.\n",
        "\n",
        "4. Use the `axvline()` function to draw vertical lines at $X = 150$ and $X = 180$. "
      ]
    },
    {
      "cell_type": "code",
      "metadata": {
        "id": "wP8XaTXImHp9",
        "outputId": "dd34a45d-8bfc-4652-c342-5a2ddc43df7d",
        "colab": {
          "base_uri": "https://localhost:8080/",
          "height": 489
        }
      },
      "source": [
        "# S6.1: Create the above bell curve.\n",
        "new_array = sorted_heights[(sorted_heights >= 150) & (sorted_heights <= 180)]\n",
        "array_length = len(sorted_heights)\n",
        "\n",
        "plt.figure(figsize=(12, 5), dpi = 96)\n",
        "plt.title(label = r\"Bell Curve $\\rho(x) = \\frac{1}{\\sigma \\sqrt{2 \\pi}}e^{-\\frac{1}{2\\sigma^2}(x - \\mu)^2}$\", fontsize=20) # MathJaX equations\n",
        "plt.plot(sorted_heights, prob_array, color = 'black', linewidth = 2.5)\n",
        "plt.fill_between(x = new_array, y1 = prob_density_func(new_array, np.mean(heights), np.std(heights)), \n",
        "                 facecolor = 'y', alpha = 0.5)\n",
        "plt.axvline(x = 150, color = 'r', linestyle = '-', label = r\"$X = 150$\")\n",
        "plt.axvline(x = 180, color = 'r', linestyle = '-', label = r\"$X = 180$\")\n",
        "plt.xlabel(\"Height (in cm)\")\n",
        "plt.ylabel(\"Probability Density\")\n",
        "plt.legend()\n",
        "plt.show()"
      ],
      "execution_count": null,
      "outputs": [
        {
          "output_type": "display_data",
          "data": {
            "image/png": "[encoded data removed]",
            "text/plain": [
              "<Figure size 1152x480 with 1 Axes>"
            ]
          },
          "metadata": {
            "tags": [],
            "needs_background": "light"
          }
        }
      ]
    },
    {
      "cell_type": "markdown",
      "metadata": {
        "id": "AH-TE52klwyr"
      },
      "source": [
        "---"
      ]
    },
    {
      "cell_type": "markdown",
      "metadata": {
        "id": "KJbuVur4l1TF"
      },
      "source": [
        "Congratulations! A new milestone; a new challenge!\n",
        " \n",
        "During the past few classes, you acquired a wide range of programming constructs. And when the time came, you also applied them to analyse why gambling is bad and how a house always wins! in gambling.\n"
      ]
    },
    {
      "cell_type": "markdown",
      "metadata": {
        "id": "ookO9BWfnZbA"
      },
      "source": [
        "---"
      ]
    },
    {
      "cell_type": "markdown",
      "metadata": {
        "id": "33941shg1gdZ"
      },
      "source": [
        "#### Activities\n",
        "\n",
        "**Teacher Activities**\n",
        "\n",
        "1. Expected Value, Continuous Random Variable & Probability Density Function (Class Copy)\n",
        "\n",
        "   https://colab.research.google.com/drive/1bTQorcX2s_zeOLApFOCxePIVXsMQHECb\n",
        "     \n",
        "2. Expected Value, Continuous Random Variable & Probability Density Function (Reference)\n",
        "\n",
        "   https://colab.research.google.com/drive/12Won--pSnUJOPVMyQ3r_SQIT06AoZc2K"
      ]
    },
    {
      "cell_type": "markdown",
      "metadata": {
        "id": "vR6LyPro1f7h"
      },
      "source": [
        "---"
      ]
    }
  ]
}