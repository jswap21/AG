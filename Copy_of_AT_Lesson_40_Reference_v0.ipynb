{
  "nbformat": 4,
  "nbformat_minor": 0,
  "metadata": {
    "colab": {
      "provenance": [],
      "collapsed_sections": [],
      "include_colab_link": true
    },
    "kernelspec": {
      "name": "python3",
      "display_name": "Python 3"
    }
  },
  "cells": [
    {
      "cell_type": "markdown",
      "metadata": {
        "id": "view-in-github",
        "colab_type": "text"
      },
      "source": [
        "<a href=\"https://colab.research.google.com/github/jswap21/AG/blob/main/Copy_of_AT_Lesson_40_Reference_v0.ipynb\" target=\"_parent\"><img src=\"https://colab.research.google.com/assets/colab-badge.svg\" alt=\"Open In Colab\"/></a>"
      ]
    },
    {
      "cell_type": "markdown",
      "metadata": {
        "id": "z75TncAdaPi8"
      },
      "source": [
        "# Lesson 40: Air Quality Analysis - Data Cleaning"
      ]
    },
    {
      "cell_type": "markdown",
      "metadata": {
        "id": "LRNuIrlW7CLW"
      },
      "source": [
        "**WARNING:** The reference notebook is meant **ONLY** for a teacher. Please **DO NOT** share it with any student. The contents of the reference notebook are meant only to prepare a teacher for a class. To conduct the class, use the class copy of the reference notebook. \n",
        "\n",
        "|Particulars|Description|\n",
        "|-|-|\n",
        "|**Topic**|Air Quality Analysis - The `datetime` Module|\n",
        "|||\n",
        "|**Class Description**|In this class, a student will learn to clean a DataFrame by treating garbage value|\n",
        "|||\n",
        "|**Class**|C40|\n",
        "|||\n",
        "|**Class Time**|45 minutes|\n",
        "|||\n",
        "|**Goals**|Replace the values containing comma with periods|\n",
        "||Replace the `-200` value with the median values for each column|\n",
        "||Slice a DataFrame into two DataFrames|\n",
        "|||\n",
        "|**Teacher Resources**|Google Account|\n",
        "||Link to Lesson 40 Colab reference notebook|\n",
        "||Laptop with internet connectivity|\n",
        "||Earphones with mic|\n",
        "|||\n",
        "|**Student Resources**|Google Account|\n",
        "||Laptop with internet connectivity|\n",
        "||Earphones with mic|"
      ]
    },
    {
      "cell_type": "markdown",
      "metadata": {
        "id": "xqxJqYtY7DFE"
      },
      "source": [
        "---"
      ]
    },
    {
      "cell_type": "markdown",
      "metadata": {
        "id": "bRf6duRAmVsp"
      },
      "source": [
        "### Warm-up\n",
        "```\n",
        "TEACHER\n",
        "I have an exciting quiz question for you! Are you ready to answer this question?\n",
        "\n",
        "EXPECTED STUDENT RESPONSE\n",
        "Yes.\n",
        "```\n",
        "\n",
        "  **Instructions for the Teacher:**\n",
        "  -  Please click on the \"Quiz Time\" button on the bottom right corner of your screen to start the In-Class Quiz.<img src='https://student-datasets-bucket.s3.ap-south-1.amazonaws.com/images/quiz-time.png' width=100>   \n",
        "  - A quiz will be visible to both you and the student. Encourage the student to answer the quiz question. \n",
        "  - The student may choose the wrong option, help the student to think correctly about the question and then answer again. \n",
        "  - After the student selects the correct option, the \"End Quiz\" button will start appearing on your screen.  <img src='https://student-datasets-bucket.s3.ap-south-1.amazonaws.com/images/end-quiz.png' width=100>  \n",
        "  - Click the \"End quiz\" to close the quiz pop-up and continue the class. \n",
        "  - Do not spend more than 2 minutes on this quiz.\n",
        "\n",
        "\n"
      ]
    },
    {
      "cell_type": "markdown",
      "metadata": {
        "id": "Qu74D_zJmW2K"
      },
      "source": [
        "---"
      ]
    },
    {
      "cell_type": "markdown",
      "metadata": {
        "id": "Wrq9E4BMmOHe"
      },
      "source": [
        "### Teacher-Student Activities\n",
        "\n",
        "In this class, we will clean the DataFrame by replacing commas with periods (or dots) and by replacing the `-200` garbage value with the median value of the respective columns.\n",
        "\n",
        "The data cleaning exercises depend on the kind of dataset you get. However, the functions applied or the operations followed to clean a DataFrame more or less remain the same. \n",
        "\n",
        "Let's begin the class by running the code which we have already covered in the previous classes and continue the class from the **Activity 1: Replacing Commas** section."
      ]
    },
    {
      "cell_type": "markdown",
      "metadata": {
        "id": "xciPkfWVnJcg"
      },
      "source": [
        "---"
      ]
    },
    {
      "cell_type": "markdown",
      "metadata": {
        "id": "K6mV_YtknKNB"
      },
      "source": [
        "### Recap\n",
        "\n",
        "Run the code cell below to load the dataset and apply the operations on the DataFrame that were covered in the previous classes."
      ]
    },
    {
      "cell_type": "code",
      "metadata": {
        "id": "wNOjV6SAaMNK"
      },
      "source": [
        "# Run the code cell.\n",
        "import numpy as np\n",
        "import pandas as pd\n",
        "import matplotlib.pyplot as plt\n",
        "import seaborn as sns\n",
        "\n",
        "# Loading the dataset.\n",
        "csv_file = 'https://student-datasets-bucket.s3.ap-south-1.amazonaws.com/whitehat-ds-datasets/air-quality/AirQualityUCI.csv'\n",
        "df = pd.read_csv(csv_file, sep=';')\n",
        "\n",
        "# Dropping the 'Unnamed: 15' & 'Unnamed: 16' columns.\n",
        "df = df.drop(columns=['Unnamed: 15', 'Unnamed: 16'], axis=1) \n",
        "\n",
        "# Dropping the null values.\n",
        "df = df.dropna()\n",
        "\n",
        "# Creating a Pandas series containing 'datetime' objects.\n",
        "dt_series = pd.Series(data = [item.split(\"/\")[2] + \"-\" + item.split(\"/\")[1] + \"-\" + item.split(\"/\")[0] for item in df['Date']], index=df.index) + ' ' + pd.Series(data=[str(item).replace(\".\", \":\") for item in df['Time']], index=df.index)\n",
        "dt_series = pd.to_datetime(dt_series)\n",
        "\n",
        "# Remove the Date & Time columns from the DataFrame and insert the 'dt_series' in it.\n",
        "df = df.drop(columns=['Date', 'Time'], axis=1)\n",
        "df.insert(loc=0, column='DateTime', value=dt_series)\n",
        "\n",
        "# Get the Pandas series containing the year values as integers.\n",
        "year_series = dt_series.dt.year\n",
        "\n",
        "# Get the Pandas series containing the month values as integers.\n",
        "month_series = dt_series.dt.month\n",
        "\n",
        "# Get the Pandas series containing the day values as integers.\n",
        "day_series = dt_series.dt.day\n",
        "\n",
        "# Get the Pandas series containing the days of a week, i.e., Monday, Tuesday, Wednesday etc.\n",
        "day_name_series = dt_series.dt.day_name()\n",
        "\n",
        "# Add the 'Year', 'Month', 'Day' and 'Day Name' columns to the DataFrame.\n",
        "df['Year'] = year_series\n",
        "df['Month'] = month_series\n",
        "df['Day'] = day_series\n",
        "df['Day Name'] = day_name_series\n",
        "\n",
        "# Sort the DataFrame by the 'DateTime' values in the ascending order. Also, display the first 10 rows of the DataFrame.\n",
        "df = df.sort_values(by='DateTime')"
      ],
      "execution_count": null,
      "outputs": []
    },
    {
      "cell_type": "markdown",
      "metadata": {
        "id": "1Wce1jJAs_23"
      },
      "source": [
        "---"
      ]
    },
    {
      "cell_type": "markdown",
      "metadata": {
        "id": "LwuGk4habNWS"
      },
      "source": [
        "#### Activity 1: Replacing Commas^\n",
        "\n",
        "The  values in the `CO(GT), C6H6(GT), T,\tRH` and\t`AH` columns contain the commas in them. Let's replace the commas with periods (or dots). "
      ]
    },
    {
      "cell_type": "code",
      "metadata": {
        "id": "uu1Qollia62D",
        "colab": {
          "base_uri": "https://localhost:8080/",
          "height": 394
        },
        "outputId": "7541b645-532b-470d-d05e-a4bf42aa9c35"
      },
      "source": [
        "# S1.1: Display the first five rows of the DataFrame.\n",
        "df.head()"
      ],
      "execution_count": null,
      "outputs": [
        {
          "output_type": "execute_result",
          "data": {
            "text/html": [
              "<div>\n",
              "<style scoped>\n",
              "    .dataframe tbody tr th:only-of-type {\n",
              "        vertical-align: middle;\n",
              "    }\n",
              "\n",
              "    .dataframe tbody tr th {\n",
              "        vertical-align: top;\n",
              "    }\n",
              "\n",
              "    .dataframe thead th {\n",
              "        text-align: right;\n",
              "    }\n",
              "</style>\n",
              "<table border=\"1\" class=\"dataframe\">\n",
              "  <thead>\n",
              "    <tr style=\"text-align: right;\">\n",
              "      <th></th>\n",
              "      <th>DateTime</th>\n",
              "      <th>CO(GT)</th>\n",
              "      <th>PT08.S1(CO)</th>\n",
              "      <th>NMHC(GT)</th>\n",
              "      <th>C6H6(GT)</th>\n",
              "      <th>PT08.S2(NMHC)</th>\n",
              "      <th>NOx(GT)</th>\n",
              "      <th>PT08.S3(NOx)</th>\n",
              "      <th>NO2(GT)</th>\n",
              "      <th>PT08.S4(NO2)</th>\n",
              "      <th>PT08.S5(O3)</th>\n",
              "      <th>T</th>\n",
              "      <th>RH</th>\n",
              "      <th>AH</th>\n",
              "      <th>Year</th>\n",
              "      <th>Month</th>\n",
              "      <th>Day</th>\n",
              "      <th>Day Name</th>\n",
              "    </tr>\n",
              "  </thead>\n",
              "  <tbody>\n",
              "    <tr>\n",
              "      <th>0</th>\n",
              "      <td>2004-03-10 18:00:00</td>\n",
              "      <td>2,6</td>\n",
              "      <td>1360.0</td>\n",
              "      <td>150.0</td>\n",
              "      <td>11,9</td>\n",
              "      <td>1046.0</td>\n",
              "      <td>166.0</td>\n",
              "      <td>1056.0</td>\n",
              "      <td>113.0</td>\n",
              "      <td>1692.0</td>\n",
              "      <td>1268.0</td>\n",
              "      <td>13,6</td>\n",
              "      <td>48,9</td>\n",
              "      <td>0,7578</td>\n",
              "      <td>2004</td>\n",
              "      <td>3</td>\n",
              "      <td>10</td>\n",
              "      <td>Wednesday</td>\n",
              "    </tr>\n",
              "    <tr>\n",
              "      <th>1</th>\n",
              "      <td>2004-03-10 19:00:00</td>\n",
              "      <td>2</td>\n",
              "      <td>1292.0</td>\n",
              "      <td>112.0</td>\n",
              "      <td>9,4</td>\n",
              "      <td>955.0</td>\n",
              "      <td>103.0</td>\n",
              "      <td>1174.0</td>\n",
              "      <td>92.0</td>\n",
              "      <td>1559.0</td>\n",
              "      <td>972.0</td>\n",
              "      <td>13,3</td>\n",
              "      <td>47,7</td>\n",
              "      <td>0,7255</td>\n",
              "      <td>2004</td>\n",
              "      <td>3</td>\n",
              "      <td>10</td>\n",
              "      <td>Wednesday</td>\n",
              "    </tr>\n",
              "    <tr>\n",
              "      <th>2</th>\n",
              "      <td>2004-03-10 20:00:00</td>\n",
              "      <td>2,2</td>\n",
              "      <td>1402.0</td>\n",
              "      <td>88.0</td>\n",
              "      <td>9,0</td>\n",
              "      <td>939.0</td>\n",
              "      <td>131.0</td>\n",
              "      <td>1140.0</td>\n",
              "      <td>114.0</td>\n",
              "      <td>1555.0</td>\n",
              "      <td>1074.0</td>\n",
              "      <td>11,9</td>\n",
              "      <td>54,0</td>\n",
              "      <td>0,7502</td>\n",
              "      <td>2004</td>\n",
              "      <td>3</td>\n",
              "      <td>10</td>\n",
              "      <td>Wednesday</td>\n",
              "    </tr>\n",
              "    <tr>\n",
              "      <th>3</th>\n",
              "      <td>2004-03-10 21:00:00</td>\n",
              "      <td>2,2</td>\n",
              "      <td>1376.0</td>\n",
              "      <td>80.0</td>\n",
              "      <td>9,2</td>\n",
              "      <td>948.0</td>\n",
              "      <td>172.0</td>\n",
              "      <td>1092.0</td>\n",
              "      <td>122.0</td>\n",
              "      <td>1584.0</td>\n",
              "      <td>1203.0</td>\n",
              "      <td>11,0</td>\n",
              "      <td>60,0</td>\n",
              "      <td>0,7867</td>\n",
              "      <td>2004</td>\n",
              "      <td>3</td>\n",
              "      <td>10</td>\n",
              "      <td>Wednesday</td>\n",
              "    </tr>\n",
              "    <tr>\n",
              "      <th>4</th>\n",
              "      <td>2004-03-10 22:00:00</td>\n",
              "      <td>1,6</td>\n",
              "      <td>1272.0</td>\n",
              "      <td>51.0</td>\n",
              "      <td>6,5</td>\n",
              "      <td>836.0</td>\n",
              "      <td>131.0</td>\n",
              "      <td>1205.0</td>\n",
              "      <td>116.0</td>\n",
              "      <td>1490.0</td>\n",
              "      <td>1110.0</td>\n",
              "      <td>11,2</td>\n",
              "      <td>59,6</td>\n",
              "      <td>0,7888</td>\n",
              "      <td>2004</td>\n",
              "      <td>3</td>\n",
              "      <td>10</td>\n",
              "      <td>Wednesday</td>\n",
              "    </tr>\n",
              "  </tbody>\n",
              "</table>\n",
              "</div>"
            ],
            "text/plain": [
              "             DateTime CO(GT)  PT08.S1(CO)  ...  Month Day   Day Name\n",
              "0 2004-03-10 18:00:00    2,6       1360.0  ...      3  10  Wednesday\n",
              "1 2004-03-10 19:00:00      2       1292.0  ...      3  10  Wednesday\n",
              "2 2004-03-10 20:00:00    2,2       1402.0  ...      3  10  Wednesday\n",
              "3 2004-03-10 21:00:00    2,2       1376.0  ...      3  10  Wednesday\n",
              "4 2004-03-10 22:00:00    1,6       1272.0  ...      3  10  Wednesday\n",
              "\n",
              "[5 rows x 18 columns]"
            ]
          },
          "metadata": {
            "tags": []
          },
          "execution_count": 2
        }
      ]
    },
    {
      "cell_type": "markdown",
      "metadata": {
        "id": "3twFa_GCoHrS"
      },
      "source": [
        "Create a function which takes a Pandas series containing comma separated decimal values as an input and returns a new Pandas series containing period separated decimal values as an output."
      ]
    },
    {
      "cell_type": "code",
      "metadata": {
        "id": "qj1ZwNpKbN4g"
      },
      "source": [
        "# S1.2: Create a function to replace the commas with periods in a Pandas series.\n",
        "def comma_to_period(series):\n",
        "    new_series = pd.Series(data=[float(str(item).replace(',', '.')) for item in series], index=df.index)\n",
        "    return new_series"
      ],
      "execution_count": null,
      "outputs": []
    },
    {
      "cell_type": "markdown",
      "metadata": {
        "id": "lTQTLZHFozvM"
      },
      "source": [
        "In the above code,\n",
        "\n",
        "- we iterated through each item of a `series`, \n",
        "\n",
        "- converted each item to a string value using the `str()` function, \n",
        "\n",
        "- replaced the comma with the period using the `replace()` function \n",
        "\n",
        "- converted the replaced value to a floating-point number using the `float()` function,\n",
        "\n",
        "- added each item to a Python list, and\n",
        "\n",
        "- converted the list to a Pandas series using the `pd.Series()` function. \n",
        "\n",
        "We have ensured that the indices of the new Pandas series are the same as the indices of the DataFrame by passing `index = df.index` parameter to the `pd.Series()` function where `df` is the DataFrame.\n",
        "\n",
        "Now, let's test the `comma_to_period()` function by correcting the values of the `CO(GT)` column but storing the output in a new variable so that the original values of the column are unaffected before we have verified the correctness of the function."
      ]
    },
    {
      "cell_type": "code",
      "metadata": {
        "id": "crtSeoOcqQjM",
        "colab": {
          "base_uri": "https://localhost:8080/"
        },
        "outputId": "d7ed1378-c9fe-4532-b4ef-a5a060d25f8a"
      },
      "source": [
        "# S1.3: Test the 'comma_to_period()' function by correcting the values of 'CO(GT)' column but storing the output in a new variable.\n",
        "new_series = comma_to_period(df['CO(GT)'])\n",
        "new_series"
      ],
      "execution_count": null,
      "outputs": [
        {
          "output_type": "execute_result",
          "data": {
            "text/plain": [
              "0       2.6\n",
              "1       2.0\n",
              "2       2.2\n",
              "3       2.2\n",
              "4       1.6\n",
              "       ... \n",
              "9352    3.1\n",
              "9353    2.4\n",
              "9354    2.4\n",
              "9355    2.1\n",
              "9356    2.2\n",
              "Length: 9357, dtype: float64"
            ]
          },
          "metadata": {
            "tags": []
          },
          "execution_count": 4
        }
      ]
    },
    {
      "cell_type": "markdown",
      "metadata": {
        "id": "w4WfW0gDqduB"
      },
      "source": [
        "As you can see, all the values of the `CO(GT)` column are now proper float-point numbers. Let's apply the `comma_to_period()` function on the `'CO(GT), C6H6(GT), T, RH` and `AH` columns.\n"
      ]
    },
    {
      "cell_type": "code",
      "metadata": {
        "id": "3uNxSnOsbVpp"
      },
      "source": [
        "# S1.4: Apply the 'comma_to_period()' function on the ''CO(GT)', 'C6H6(GT)', 'T', 'RH' and 'AH' columns.\n",
        "cols_to_correct = ['CO(GT)', 'C6H6(GT)', 'T', 'RH', 'AH'] # Create a list of column names.\n",
        "for col in cols_to_correct: # Iterate through each column\n",
        "    df[col] = comma_to_period(df[col]) # Replace the original column with the new series."
      ],
      "execution_count": null,
      "outputs": []
    },
    {
      "cell_type": "markdown",
      "metadata": {
        "id": "Ul5_3oF7rXve"
      },
      "source": [
        "In the above code:\n",
        "\n",
        "- We created a list of all the columns whose values we need to correct.\n",
        "\n",
        "- Iterated through each value of the list.\n",
        "\n",
        "- Applied the `comma_to_period()` function on each column of the `df` DataFrame.\n",
        "\n",
        "- Replaced each column with their corresponding new series to correct the required values.\n",
        "\n",
        "Let's print the first five rows of the DataFrame to see the effect of the `comma_to_period()` function."
      ]
    },
    {
      "cell_type": "code",
      "metadata": {
        "id": "hJUJVXZ2bZFq",
        "colab": {
          "base_uri": "https://localhost:8080/",
          "height": 394
        },
        "outputId": "18473a1b-9c05-4860-9cb6-951f3cb3dc80"
      },
      "source": [
        "# S1.5: Display the first five rows of the DataFrame to see the effect of the 'comma_to_period()' function.\n",
        "df.head()"
      ],
      "execution_count": null,
      "outputs": [
        {
          "output_type": "execute_result",
          "data": {
            "text/html": [
              "<div>\n",
              "<style scoped>\n",
              "    .dataframe tbody tr th:only-of-type {\n",
              "        vertical-align: middle;\n",
              "    }\n",
              "\n",
              "    .dataframe tbody tr th {\n",
              "        vertical-align: top;\n",
              "    }\n",
              "\n",
              "    .dataframe thead th {\n",
              "        text-align: right;\n",
              "    }\n",
              "</style>\n",
              "<table border=\"1\" class=\"dataframe\">\n",
              "  <thead>\n",
              "    <tr style=\"text-align: right;\">\n",
              "      <th></th>\n",
              "      <th>DateTime</th>\n",
              "      <th>CO(GT)</th>\n",
              "      <th>PT08.S1(CO)</th>\n",
              "      <th>NMHC(GT)</th>\n",
              "      <th>C6H6(GT)</th>\n",
              "      <th>PT08.S2(NMHC)</th>\n",
              "      <th>NOx(GT)</th>\n",
              "      <th>PT08.S3(NOx)</th>\n",
              "      <th>NO2(GT)</th>\n",
              "      <th>PT08.S4(NO2)</th>\n",
              "      <th>PT08.S5(O3)</th>\n",
              "      <th>T</th>\n",
              "      <th>RH</th>\n",
              "      <th>AH</th>\n",
              "      <th>Year</th>\n",
              "      <th>Month</th>\n",
              "      <th>Day</th>\n",
              "      <th>Day Name</th>\n",
              "    </tr>\n",
              "  </thead>\n",
              "  <tbody>\n",
              "    <tr>\n",
              "      <th>0</th>\n",
              "      <td>2004-03-10 18:00:00</td>\n",
              "      <td>2.6</td>\n",
              "      <td>1360.0</td>\n",
              "      <td>150.0</td>\n",
              "      <td>11.9</td>\n",
              "      <td>1046.0</td>\n",
              "      <td>166.0</td>\n",
              "      <td>1056.0</td>\n",
              "      <td>113.0</td>\n",
              "      <td>1692.0</td>\n",
              "      <td>1268.0</td>\n",
              "      <td>13.6</td>\n",
              "      <td>48.9</td>\n",
              "      <td>0.7578</td>\n",
              "      <td>2004</td>\n",
              "      <td>3</td>\n",
              "      <td>10</td>\n",
              "      <td>Wednesday</td>\n",
              "    </tr>\n",
              "    <tr>\n",
              "      <th>1</th>\n",
              "      <td>2004-03-10 19:00:00</td>\n",
              "      <td>2.0</td>\n",
              "      <td>1292.0</td>\n",
              "      <td>112.0</td>\n",
              "      <td>9.4</td>\n",
              "      <td>955.0</td>\n",
              "      <td>103.0</td>\n",
              "      <td>1174.0</td>\n",
              "      <td>92.0</td>\n",
              "      <td>1559.0</td>\n",
              "      <td>972.0</td>\n",
              "      <td>13.3</td>\n",
              "      <td>47.7</td>\n",
              "      <td>0.7255</td>\n",
              "      <td>2004</td>\n",
              "      <td>3</td>\n",
              "      <td>10</td>\n",
              "      <td>Wednesday</td>\n",
              "    </tr>\n",
              "    <tr>\n",
              "      <th>2</th>\n",
              "      <td>2004-03-10 20:00:00</td>\n",
              "      <td>2.2</td>\n",
              "      <td>1402.0</td>\n",
              "      <td>88.0</td>\n",
              "      <td>9.0</td>\n",
              "      <td>939.0</td>\n",
              "      <td>131.0</td>\n",
              "      <td>1140.0</td>\n",
              "      <td>114.0</td>\n",
              "      <td>1555.0</td>\n",
              "      <td>1074.0</td>\n",
              "      <td>11.9</td>\n",
              "      <td>54.0</td>\n",
              "      <td>0.7502</td>\n",
              "      <td>2004</td>\n",
              "      <td>3</td>\n",
              "      <td>10</td>\n",
              "      <td>Wednesday</td>\n",
              "    </tr>\n",
              "    <tr>\n",
              "      <th>3</th>\n",
              "      <td>2004-03-10 21:00:00</td>\n",
              "      <td>2.2</td>\n",
              "      <td>1376.0</td>\n",
              "      <td>80.0</td>\n",
              "      <td>9.2</td>\n",
              "      <td>948.0</td>\n",
              "      <td>172.0</td>\n",
              "      <td>1092.0</td>\n",
              "      <td>122.0</td>\n",
              "      <td>1584.0</td>\n",
              "      <td>1203.0</td>\n",
              "      <td>11.0</td>\n",
              "      <td>60.0</td>\n",
              "      <td>0.7867</td>\n",
              "      <td>2004</td>\n",
              "      <td>3</td>\n",
              "      <td>10</td>\n",
              "      <td>Wednesday</td>\n",
              "    </tr>\n",
              "    <tr>\n",
              "      <th>4</th>\n",
              "      <td>2004-03-10 22:00:00</td>\n",
              "      <td>1.6</td>\n",
              "      <td>1272.0</td>\n",
              "      <td>51.0</td>\n",
              "      <td>6.5</td>\n",
              "      <td>836.0</td>\n",
              "      <td>131.0</td>\n",
              "      <td>1205.0</td>\n",
              "      <td>116.0</td>\n",
              "      <td>1490.0</td>\n",
              "      <td>1110.0</td>\n",
              "      <td>11.2</td>\n",
              "      <td>59.6</td>\n",
              "      <td>0.7888</td>\n",
              "      <td>2004</td>\n",
              "      <td>3</td>\n",
              "      <td>10</td>\n",
              "      <td>Wednesday</td>\n",
              "    </tr>\n",
              "  </tbody>\n",
              "</table>\n",
              "</div>"
            ],
            "text/plain": [
              "             DateTime  CO(GT)  PT08.S1(CO)  ...  Month  Day   Day Name\n",
              "0 2004-03-10 18:00:00     2.6       1360.0  ...      3   10  Wednesday\n",
              "1 2004-03-10 19:00:00     2.0       1292.0  ...      3   10  Wednesday\n",
              "2 2004-03-10 20:00:00     2.2       1402.0  ...      3   10  Wednesday\n",
              "3 2004-03-10 21:00:00     2.2       1376.0  ...      3   10  Wednesday\n",
              "4 2004-03-10 22:00:00     1.6       1272.0  ...      3   10  Wednesday\n",
              "\n",
              "[5 rows x 18 columns]"
            ]
          },
          "metadata": {
            "tags": []
          },
          "execution_count": 6
        }
      ]
    },
    {
      "cell_type": "markdown",
      "metadata": {
        "id": "M-oQpK13sg6F"
      },
      "source": [
        "Let's also print the information on the `df` DataFrame. Except for the first column and the last column, all other columns must have the numeric (`float` or `int`) data-type values."
      ]
    },
    {
      "cell_type": "code",
      "metadata": {
        "id": "pd3a-0HJba4g",
        "colab": {
          "base_uri": "https://localhost:8080/"
        },
        "outputId": "7b8b6c6e-d04d-4e96-f37d-7a7a26edf84b"
      },
      "source": [
        "# S1.6: Print the first information of the 'df' DataFrame.\n",
        "df.info()"
      ],
      "execution_count": null,
      "outputs": [
        {
          "output_type": "stream",
          "text": [
            "<class 'pandas.core.frame.DataFrame'>\n",
            "Int64Index: 9357 entries, 0 to 9356\n",
            "Data columns (total 18 columns):\n",
            " #   Column         Non-Null Count  Dtype         \n",
            "---  ------         --------------  -----         \n",
            " 0   DateTime       9357 non-null   datetime64[ns]\n",
            " 1   CO(GT)         9357 non-null   float64       \n",
            " 2   PT08.S1(CO)    9357 non-null   float64       \n",
            " 3   NMHC(GT)       9357 non-null   float64       \n",
            " 4   C6H6(GT)       9357 non-null   float64       \n",
            " 5   PT08.S2(NMHC)  9357 non-null   float64       \n",
            " 6   NOx(GT)        9357 non-null   float64       \n",
            " 7   PT08.S3(NOx)   9357 non-null   float64       \n",
            " 8   NO2(GT)        9357 non-null   float64       \n",
            " 9   PT08.S4(NO2)   9357 non-null   float64       \n",
            " 10  PT08.S5(O3)    9357 non-null   float64       \n",
            " 11  T              9357 non-null   float64       \n",
            " 12  RH             9357 non-null   float64       \n",
            " 13  AH             9357 non-null   float64       \n",
            " 14  Year           9357 non-null   int64         \n",
            " 15  Month          9357 non-null   int64         \n",
            " 16  Day            9357 non-null   int64         \n",
            " 17  Day Name       9357 non-null   object        \n",
            "dtypes: datetime64[ns](1), float64(13), int64(3), object(1)\n",
            "memory usage: 1.4+ MB\n"
          ],
          "name": "stdout"
        }
      ]
    },
    {
      "cell_type": "markdown",
      "metadata": {
        "id": "WX58NHE1tHOA"
      },
      "source": [
        "---\n"
      ]
    },
    {
      "cell_type": "markdown",
      "metadata": {
        "id": "HK42XBR0tIPg"
      },
      "source": [
        "#### Activity 2: Garbage Value Inspection^^\n",
        "\n",
        "The columns in the `df` DataFrame also contain `-200` value. It is a garbage value or just a random number to represent the further missing (or null) values in the DataFrame. Let's replace it with the most appropriate values for each column."
      ]
    },
    {
      "cell_type": "code",
      "metadata": {
        "id": "hIJc20qpbeJe",
        "colab": {
          "base_uri": "https://localhost:8080/",
          "height": 317
        },
        "outputId": "c433fcce-5d10-43ad-860b-829430c82176"
      },
      "source": [
        "# S2.1: Get the descriptive statistics for all the numeric data-type columns.\n",
        "df.describe()"
      ],
      "execution_count": null,
      "outputs": [
        {
          "output_type": "execute_result",
          "data": {
            "text/html": [
              "<div>\n",
              "<style scoped>\n",
              "    .dataframe tbody tr th:only-of-type {\n",
              "        vertical-align: middle;\n",
              "    }\n",
              "\n",
              "    .dataframe tbody tr th {\n",
              "        vertical-align: top;\n",
              "    }\n",
              "\n",
              "    .dataframe thead th {\n",
              "        text-align: right;\n",
              "    }\n",
              "</style>\n",
              "<table border=\"1\" class=\"dataframe\">\n",
              "  <thead>\n",
              "    <tr style=\"text-align: right;\">\n",
              "      <th></th>\n",
              "      <th>CO(GT)</th>\n",
              "      <th>PT08.S1(CO)</th>\n",
              "      <th>NMHC(GT)</th>\n",
              "      <th>C6H6(GT)</th>\n",
              "      <th>PT08.S2(NMHC)</th>\n",
              "      <th>NOx(GT)</th>\n",
              "      <th>PT08.S3(NOx)</th>\n",
              "      <th>NO2(GT)</th>\n",
              "      <th>PT08.S4(NO2)</th>\n",
              "      <th>PT08.S5(O3)</th>\n",
              "      <th>T</th>\n",
              "      <th>RH</th>\n",
              "      <th>AH</th>\n",
              "      <th>Year</th>\n",
              "      <th>Month</th>\n",
              "      <th>Day</th>\n",
              "    </tr>\n",
              "  </thead>\n",
              "  <tbody>\n",
              "    <tr>\n",
              "      <th>count</th>\n",
              "      <td>9357.000000</td>\n",
              "      <td>9357.000000</td>\n",
              "      <td>9357.000000</td>\n",
              "      <td>9357.000000</td>\n",
              "      <td>9357.000000</td>\n",
              "      <td>9357.000000</td>\n",
              "      <td>9357.000000</td>\n",
              "      <td>9357.000000</td>\n",
              "      <td>9357.000000</td>\n",
              "      <td>9357.000000</td>\n",
              "      <td>9357.000000</td>\n",
              "      <td>9357.000000</td>\n",
              "      <td>9357.000000</td>\n",
              "      <td>9357.000000</td>\n",
              "      <td>9357.000000</td>\n",
              "      <td>9357.000000</td>\n",
              "    </tr>\n",
              "    <tr>\n",
              "      <th>mean</th>\n",
              "      <td>-34.207524</td>\n",
              "      <td>1048.990061</td>\n",
              "      <td>-159.090093</td>\n",
              "      <td>1.865683</td>\n",
              "      <td>894.595276</td>\n",
              "      <td>168.616971</td>\n",
              "      <td>794.990168</td>\n",
              "      <td>58.148873</td>\n",
              "      <td>1391.479641</td>\n",
              "      <td>975.072032</td>\n",
              "      <td>9.778305</td>\n",
              "      <td>39.485380</td>\n",
              "      <td>-6.837604</td>\n",
              "      <td>2004.240141</td>\n",
              "      <td>6.310356</td>\n",
              "      <td>15.876884</td>\n",
              "    </tr>\n",
              "    <tr>\n",
              "      <th>std</th>\n",
              "      <td>77.657170</td>\n",
              "      <td>329.832710</td>\n",
              "      <td>139.789093</td>\n",
              "      <td>41.380206</td>\n",
              "      <td>342.333252</td>\n",
              "      <td>257.433866</td>\n",
              "      <td>321.993552</td>\n",
              "      <td>126.940455</td>\n",
              "      <td>467.210125</td>\n",
              "      <td>456.938184</td>\n",
              "      <td>43.203623</td>\n",
              "      <td>51.216145</td>\n",
              "      <td>38.976670</td>\n",
              "      <td>0.427192</td>\n",
              "      <td>3.438160</td>\n",
              "      <td>8.808653</td>\n",
              "    </tr>\n",
              "    <tr>\n",
              "      <th>min</th>\n",
              "      <td>-200.000000</td>\n",
              "      <td>-200.000000</td>\n",
              "      <td>-200.000000</td>\n",
              "      <td>-200.000000</td>\n",
              "      <td>-200.000000</td>\n",
              "      <td>-200.000000</td>\n",
              "      <td>-200.000000</td>\n",
              "      <td>-200.000000</td>\n",
              "      <td>-200.000000</td>\n",
              "      <td>-200.000000</td>\n",
              "      <td>-200.000000</td>\n",
              "      <td>-200.000000</td>\n",
              "      <td>-200.000000</td>\n",
              "      <td>2004.000000</td>\n",
              "      <td>1.000000</td>\n",
              "      <td>1.000000</td>\n",
              "    </tr>\n",
              "    <tr>\n",
              "      <th>25%</th>\n",
              "      <td>0.600000</td>\n",
              "      <td>921.000000</td>\n",
              "      <td>-200.000000</td>\n",
              "      <td>4.000000</td>\n",
              "      <td>711.000000</td>\n",
              "      <td>50.000000</td>\n",
              "      <td>637.000000</td>\n",
              "      <td>53.000000</td>\n",
              "      <td>1185.000000</td>\n",
              "      <td>700.000000</td>\n",
              "      <td>10.900000</td>\n",
              "      <td>34.100000</td>\n",
              "      <td>0.692300</td>\n",
              "      <td>2004.000000</td>\n",
              "      <td>3.000000</td>\n",
              "      <td>8.000000</td>\n",
              "    </tr>\n",
              "    <tr>\n",
              "      <th>50%</th>\n",
              "      <td>1.500000</td>\n",
              "      <td>1053.000000</td>\n",
              "      <td>-200.000000</td>\n",
              "      <td>7.900000</td>\n",
              "      <td>895.000000</td>\n",
              "      <td>141.000000</td>\n",
              "      <td>794.000000</td>\n",
              "      <td>96.000000</td>\n",
              "      <td>1446.000000</td>\n",
              "      <td>942.000000</td>\n",
              "      <td>17.200000</td>\n",
              "      <td>48.600000</td>\n",
              "      <td>0.976800</td>\n",
              "      <td>2004.000000</td>\n",
              "      <td>6.000000</td>\n",
              "      <td>16.000000</td>\n",
              "    </tr>\n",
              "    <tr>\n",
              "      <th>75%</th>\n",
              "      <td>2.600000</td>\n",
              "      <td>1221.000000</td>\n",
              "      <td>-200.000000</td>\n",
              "      <td>13.600000</td>\n",
              "      <td>1105.000000</td>\n",
              "      <td>284.000000</td>\n",
              "      <td>960.000000</td>\n",
              "      <td>133.000000</td>\n",
              "      <td>1662.000000</td>\n",
              "      <td>1255.000000</td>\n",
              "      <td>24.100000</td>\n",
              "      <td>61.900000</td>\n",
              "      <td>1.296200</td>\n",
              "      <td>2004.000000</td>\n",
              "      <td>9.000000</td>\n",
              "      <td>23.000000</td>\n",
              "    </tr>\n",
              "    <tr>\n",
              "      <th>max</th>\n",
              "      <td>11.900000</td>\n",
              "      <td>2040.000000</td>\n",
              "      <td>1189.000000</td>\n",
              "      <td>63.700000</td>\n",
              "      <td>2214.000000</td>\n",
              "      <td>1479.000000</td>\n",
              "      <td>2683.000000</td>\n",
              "      <td>340.000000</td>\n",
              "      <td>2775.000000</td>\n",
              "      <td>2523.000000</td>\n",
              "      <td>44.600000</td>\n",
              "      <td>88.700000</td>\n",
              "      <td>2.231000</td>\n",
              "      <td>2005.000000</td>\n",
              "      <td>12.000000</td>\n",
              "      <td>31.000000</td>\n",
              "    </tr>\n",
              "  </tbody>\n",
              "</table>\n",
              "</div>"
            ],
            "text/plain": [
              "            CO(GT)  PT08.S1(CO)  ...        Month          Day\n",
              "count  9357.000000  9357.000000  ...  9357.000000  9357.000000\n",
              "mean    -34.207524  1048.990061  ...     6.310356    15.876884\n",
              "std      77.657170   329.832710  ...     3.438160     8.808653\n",
              "min    -200.000000  -200.000000  ...     1.000000     1.000000\n",
              "25%       0.600000   921.000000  ...     3.000000     8.000000\n",
              "50%       1.500000  1053.000000  ...     6.000000    16.000000\n",
              "75%       2.600000  1221.000000  ...     9.000000    23.000000\n",
              "max      11.900000  2040.000000  ...    12.000000    31.000000\n",
              "\n",
              "[8 rows x 16 columns]"
            ]
          },
          "metadata": {
            "tags": []
          },
          "execution_count": 8
        }
      ]
    },
    {
      "cell_type": "markdown",
      "metadata": {
        "id": "DYTzyjJXtzsU"
      },
      "source": [
        "Except for the `Year, Month` and `Day` columns all the other columns contain the `-200` as its minimum value. Because of this their mean values are also affected. The median value never gets affected due to some garbage value or very high and very low values. So, we can replace `-200` with the median value for each column. \n",
        "\n",
        "But first, let's find out how many rows contain `-200` in each column except for the `DateTime, Year, Month` and `Day` columns."
      ]
    },
    {
      "cell_type": "code",
      "metadata": {
        "id": "Qp7TOb6nbhy_",
        "colab": {
          "base_uri": "https://localhost:8080/"
        },
        "outputId": "509422ec-5c58-4077-92d5-05d9732a8955"
      },
      "source": [
        "# T2.1: How many rows contain -200 in each column except for the 'DateTime', 'Year', 'Month' and 'Day' columns?\n",
        "neg_counts = [(col, df[df[col] == -200].shape[0]) for col in df.columns[1:-4]]\n",
        "neg_counts"
      ],
      "execution_count": null,
      "outputs": [
        {
          "output_type": "execute_result",
          "data": {
            "text/plain": [
              "[('CO(GT)', 1683),\n",
              " ('PT08.S1(CO)', 366),\n",
              " ('NMHC(GT)', 8443),\n",
              " ('C6H6(GT)', 366),\n",
              " ('PT08.S2(NMHC)', 366),\n",
              " ('NOx(GT)', 1639),\n",
              " ('PT08.S3(NOx)', 366),\n",
              " ('NO2(GT)', 1642),\n",
              " ('PT08.S4(NO2)', 366),\n",
              " ('PT08.S5(O3)', 366),\n",
              " ('T', 366),\n",
              " ('RH', 366),\n",
              " ('AH', 366)]"
            ]
          },
          "metadata": {
            "tags": []
          },
          "execution_count": 9
        }
      ]
    },
    {
      "cell_type": "markdown",
      "metadata": {
        "id": "N4t2hUn8vJRx"
      },
      "source": [
        "In the above code:\n",
        "\n",
        "- we iterated through each column having indices between `1` and `-4` (excluding `-4`) in the `df` DataFrame,\n",
        "\n",
        "- retrieved the rows containing `-200` value using the `df[df[col] == -200]` operation,\n",
        "\n",
        "- calculated the number of such rows using the `shape[0]` attribute, and\n",
        "\n",
        "- added the column name and the corresponding counts of `-200` in each column as a tuple in a list using the list comprehension method.\n",
        "\n",
        "Now, let's also find out the percentage of rows containing `-200` in each column except for the `DateTime, Year, Month` and `Day` columns."
      ]
    },
    {
      "cell_type": "code",
      "metadata": {
        "id": "F7Me37cnbkEe",
        "colab": {
          "base_uri": "https://localhost:8080/"
        },
        "outputId": "8cd293a6-e145-48c2-df54-2ff3e02a70bb"
      },
      "source": [
        "# S2.2: Find out the percentage of rows containing -200 in each column except for the 'DateTime', 'Year', 'Month' and 'Day' columns.\n",
        "neg_percent = [(col, round(df[df[col] == -200].shape[0] * 100 / df.shape[0], 2)) for col in df.columns[1:-4]]\n",
        "neg_percent"
      ],
      "execution_count": null,
      "outputs": [
        {
          "output_type": "execute_result",
          "data": {
            "text/plain": [
              "[('CO(GT)', 17.99),\n",
              " ('PT08.S1(CO)', 3.91),\n",
              " ('NMHC(GT)', 90.23),\n",
              " ('C6H6(GT)', 3.91),\n",
              " ('PT08.S2(NMHC)', 3.91),\n",
              " ('NOx(GT)', 17.52),\n",
              " ('PT08.S3(NOx)', 3.91),\n",
              " ('NO2(GT)', 17.55),\n",
              " ('PT08.S4(NO2)', 3.91),\n",
              " ('PT08.S5(O3)', 3.91),\n",
              " ('T', 3.91),\n",
              " ('RH', 3.91),\n",
              " ('AH', 3.91)]"
            ]
          },
          "metadata": {
            "tags": []
          },
          "execution_count": 10
        }
      ]
    },
    {
      "cell_type": "markdown",
      "metadata": {
        "id": "HUkd-vEBxVva"
      },
      "source": [
        "Using the same process as above, we calculate the percentage of rows containing `-200` in each column except for the `DateTime, Year, Month` and `Day` columns.\n",
        "\n",
        "Now, let's remove all the columns from the `df` DataFrame containing more than 10% garbage value."
      ]
    },
    {
      "cell_type": "code",
      "metadata": {
        "id": "zJUftyBSbl5e",
        "colab": {
          "base_uri": "https://localhost:8080/"
        },
        "outputId": "5375eae4-83ea-4801-c526-98f74b8d1dcd"
      },
      "source": [
        "# S2.3: Remove all the columns from the 'df' DataFrame containing more than 10% garbage value.\n",
        "df = df.drop(columns=['NMHC(GT)', 'CO(GT)', 'NOx(GT)', 'NO2(GT)'], axis=1)\n",
        "df.columns"
      ],
      "execution_count": null,
      "outputs": [
        {
          "output_type": "execute_result",
          "data": {
            "text/plain": [
              "Index(['DateTime', 'PT08.S1(CO)', 'C6H6(GT)', 'PT08.S2(NMHC)', 'PT08.S3(NOx)',\n",
              "       'PT08.S4(NO2)', 'PT08.S5(O3)', 'T', 'RH', 'AH', 'Year', 'Month', 'Day',\n",
              "       'Day Name'],\n",
              "      dtype='object')"
            ]
          },
          "metadata": {
            "tags": []
          },
          "execution_count": 11
        }
      ]
    },
    {
      "cell_type": "markdown",
      "metadata": {
        "id": "rz7evgEOyMpC"
      },
      "source": [
        "Again, calculate the percentage of rows containing `-200` in each column except for the `DateTime, Year, Month` and `Day` columns."
      ]
    },
    {
      "cell_type": "code",
      "metadata": {
        "id": "8fk4W9Yvbobs",
        "colab": {
          "base_uri": "https://localhost:8080/"
        },
        "outputId": "893878c6-8b43-4c15-e5bd-45f09596d69d"
      },
      "source": [
        "# S2.4: Again, calculate the percentage of rows containing '-200' in each column except for the 'DateTime', 'Year', 'Month' and 'Day' columns.\n",
        "neg_percent = [(col, round(df[df[col] == -200].shape[0] * 100 / df.shape[0], 2)) for col in df.columns[1:-4]]\n",
        "neg_percent"
      ],
      "execution_count": null,
      "outputs": [
        {
          "output_type": "execute_result",
          "data": {
            "text/plain": [
              "[('PT08.S1(CO)', 3.91),\n",
              " ('C6H6(GT)', 3.91),\n",
              " ('PT08.S2(NMHC)', 3.91),\n",
              " ('PT08.S3(NOx)', 3.91),\n",
              " ('PT08.S4(NO2)', 3.91),\n",
              " ('PT08.S5(O3)', 3.91),\n",
              " ('T', 3.91),\n",
              " ('RH', 3.91),\n",
              " ('AH', 3.91)]"
            ]
          },
          "metadata": {
            "tags": []
          },
          "execution_count": 12
        }
      ]
    },
    {
      "cell_type": "markdown",
      "metadata": {
        "id": "_WQClexBylk7"
      },
      "source": [
        "Let's replace the `-200` value with the median values in all the columns except for the `DateTime, Year, Month` and `Day` columns. \n",
        "\n",
        "Before that we should split the entire DataFrame in two different DataFrames because it contains data for two different years, i.e., 2004 and 2005. Then we should calculate the median values for each column for 2004 and 2005 separately. However, we can also first find out whether the median values are actually different for the two years. If they are not, then we don't need to split the DataFrame into two DataFrames for 2004 and 2005 data points."
      ]
    },
    {
      "cell_type": "code",
      "metadata": {
        "id": "9YAwYfI9buN-",
        "colab": {
          "base_uri": "https://localhost:8080/",
          "height": 297
        },
        "outputId": "b5e1a5cb-2f3d-4172-c7dd-b579d1db08e6"
      },
      "source": [
        "# T2.2: Calculate the median values for the columns having indices between 1 and -4 (excluding -4) for the year 2004.\n",
        "df.loc[df['Year'] == 2004, df.columns[1:-4]].describe()"
      ],
      "execution_count": null,
      "outputs": [
        {
          "output_type": "execute_result",
          "data": {
            "text/html": [
              "<div>\n",
              "<style scoped>\n",
              "    .dataframe tbody tr th:only-of-type {\n",
              "        vertical-align: middle;\n",
              "    }\n",
              "\n",
              "    .dataframe tbody tr th {\n",
              "        vertical-align: top;\n",
              "    }\n",
              "\n",
              "    .dataframe thead th {\n",
              "        text-align: right;\n",
              "    }\n",
              "</style>\n",
              "<table border=\"1\" class=\"dataframe\">\n",
              "  <thead>\n",
              "    <tr style=\"text-align: right;\">\n",
              "      <th></th>\n",
              "      <th>PT08.S1(CO)</th>\n",
              "      <th>C6H6(GT)</th>\n",
              "      <th>PT08.S2(NMHC)</th>\n",
              "      <th>PT08.S3(NOx)</th>\n",
              "      <th>PT08.S4(NO2)</th>\n",
              "      <th>PT08.S5(O3)</th>\n",
              "      <th>T</th>\n",
              "      <th>RH</th>\n",
              "      <th>AH</th>\n",
              "    </tr>\n",
              "  </thead>\n",
              "  <tbody>\n",
              "    <tr>\n",
              "      <th>count</th>\n",
              "      <td>7110.000000</td>\n",
              "      <td>7110.000000</td>\n",
              "      <td>7110.00000</td>\n",
              "      <td>7110.000000</td>\n",
              "      <td>7110.000000</td>\n",
              "      <td>7110.000000</td>\n",
              "      <td>7110.000000</td>\n",
              "      <td>7110.000000</td>\n",
              "      <td>7110.000000</td>\n",
              "    </tr>\n",
              "    <tr>\n",
              "      <th>mean</th>\n",
              "      <td>1055.135443</td>\n",
              "      <td>3.876779</td>\n",
              "      <td>923.60661</td>\n",
              "      <td>822.454571</td>\n",
              "      <td>1495.659353</td>\n",
              "      <td>973.985513</td>\n",
              "      <td>13.779001</td>\n",
              "      <td>40.292053</td>\n",
              "      <td>-5.310343</td>\n",
              "    </tr>\n",
              "    <tr>\n",
              "      <th>std</th>\n",
              "      <td>314.719517</td>\n",
              "      <td>37.859514</td>\n",
              "      <td>332.55071</td>\n",
              "      <td>315.705690</td>\n",
              "      <td>433.109562</td>\n",
              "      <td>434.094624</td>\n",
              "      <td>39.705743</td>\n",
              "      <td>46.983126</td>\n",
              "      <td>35.441047</td>\n",
              "    </tr>\n",
              "    <tr>\n",
              "      <th>min</th>\n",
              "      <td>-200.000000</td>\n",
              "      <td>-200.000000</td>\n",
              "      <td>-200.00000</td>\n",
              "      <td>-200.000000</td>\n",
              "      <td>-200.000000</td>\n",
              "      <td>-200.000000</td>\n",
              "      <td>-200.000000</td>\n",
              "      <td>-200.000000</td>\n",
              "      <td>-200.000000</td>\n",
              "    </tr>\n",
              "    <tr>\n",
              "      <th>25%</th>\n",
              "      <td>919.000000</td>\n",
              "      <td>4.600000</td>\n",
              "      <td>741.00000</td>\n",
              "      <td>666.000000</td>\n",
              "      <td>1331.250000</td>\n",
              "      <td>712.000000</td>\n",
              "      <td>14.300000</td>\n",
              "      <td>33.000000</td>\n",
              "      <td>0.855925</td>\n",
              "    </tr>\n",
              "    <tr>\n",
              "      <th>50%</th>\n",
              "      <td>1052.000000</td>\n",
              "      <td>8.600000</td>\n",
              "      <td>923.00000</td>\n",
              "      <td>815.000000</td>\n",
              "      <td>1528.000000</td>\n",
              "      <td>933.000000</td>\n",
              "      <td>20.150000</td>\n",
              "      <td>47.700000</td>\n",
              "      <td>1.083550</td>\n",
              "    </tr>\n",
              "    <tr>\n",
              "      <th>75%</th>\n",
              "      <td>1221.000000</td>\n",
              "      <td>14.200000</td>\n",
              "      <td>1124.00000</td>\n",
              "      <td>982.000000</td>\n",
              "      <td>1726.000000</td>\n",
              "      <td>1233.750000</td>\n",
              "      <td>25.800000</td>\n",
              "      <td>61.000000</td>\n",
              "      <td>1.404175</td>\n",
              "    </tr>\n",
              "    <tr>\n",
              "      <th>max</th>\n",
              "      <td>2040.000000</td>\n",
              "      <td>63.700000</td>\n",
              "      <td>2214.00000</td>\n",
              "      <td>2683.000000</td>\n",
              "      <td>2775.000000</td>\n",
              "      <td>2523.000000</td>\n",
              "      <td>44.600000</td>\n",
              "      <td>88.700000</td>\n",
              "      <td>2.231000</td>\n",
              "    </tr>\n",
              "  </tbody>\n",
              "</table>\n",
              "</div>"
            ],
            "text/plain": [
              "       PT08.S1(CO)     C6H6(GT)  ...           RH           AH\n",
              "count  7110.000000  7110.000000  ...  7110.000000  7110.000000\n",
              "mean   1055.135443     3.876779  ...    40.292053    -5.310343\n",
              "std     314.719517    37.859514  ...    46.983126    35.441047\n",
              "min    -200.000000  -200.000000  ...  -200.000000  -200.000000\n",
              "25%     919.000000     4.600000  ...    33.000000     0.855925\n",
              "50%    1052.000000     8.600000  ...    47.700000     1.083550\n",
              "75%    1221.000000    14.200000  ...    61.000000     1.404175\n",
              "max    2040.000000    63.700000  ...    88.700000     2.231000\n",
              "\n",
              "[8 rows x 9 columns]"
            ]
          },
          "metadata": {
            "tags": []
          },
          "execution_count": 13
        }
      ]
    },
    {
      "cell_type": "code",
      "metadata": {
        "id": "oTxCmCsjbwGj",
        "colab": {
          "base_uri": "https://localhost:8080/",
          "height": 297
        },
        "outputId": "06eede6f-061e-43d6-8ab2-c42949aea373"
      },
      "source": [
        "# S2.5: Calculate the median values for the columns having indices between 1 and -4 (excluding -4) for the year 2005.\n",
        "df.loc[df['Year'] == 2005, df.columns[1:-4]].describe()"
      ],
      "execution_count": null,
      "outputs": [
        {
          "output_type": "execute_result",
          "data": {
            "text/html": [
              "<div>\n",
              "<style scoped>\n",
              "    .dataframe tbody tr th:only-of-type {\n",
              "        vertical-align: middle;\n",
              "    }\n",
              "\n",
              "    .dataframe tbody tr th {\n",
              "        vertical-align: top;\n",
              "    }\n",
              "\n",
              "    .dataframe thead th {\n",
              "        text-align: right;\n",
              "    }\n",
              "</style>\n",
              "<table border=\"1\" class=\"dataframe\">\n",
              "  <thead>\n",
              "    <tr style=\"text-align: right;\">\n",
              "      <th></th>\n",
              "      <th>PT08.S1(CO)</th>\n",
              "      <th>C6H6(GT)</th>\n",
              "      <th>PT08.S2(NMHC)</th>\n",
              "      <th>PT08.S3(NOx)</th>\n",
              "      <th>PT08.S4(NO2)</th>\n",
              "      <th>PT08.S5(O3)</th>\n",
              "      <th>T</th>\n",
              "      <th>RH</th>\n",
              "      <th>AH</th>\n",
              "    </tr>\n",
              "  </thead>\n",
              "  <tbody>\n",
              "    <tr>\n",
              "      <th>count</th>\n",
              "      <td>2247.000000</td>\n",
              "      <td>2247.000000</td>\n",
              "      <td>2247.000000</td>\n",
              "      <td>2247.000000</td>\n",
              "      <td>2247.000000</td>\n",
              "      <td>2247.000000</td>\n",
              "      <td>2247.000000</td>\n",
              "      <td>2247.000000</td>\n",
              "      <td>2247.000000</td>\n",
              "    </tr>\n",
              "    <tr>\n",
              "      <th>mean</th>\n",
              "      <td>1029.544726</td>\n",
              "      <td>-4.497864</td>\n",
              "      <td>802.797063</td>\n",
              "      <td>708.086782</td>\n",
              "      <td>1061.832221</td>\n",
              "      <td>978.510013</td>\n",
              "      <td>-2.880774</td>\n",
              "      <td>36.932888</td>\n",
              "      <td>-11.670190</td>\n",
              "    </tr>\n",
              "    <tr>\n",
              "      <th>std</th>\n",
              "      <td>373.059005</td>\n",
              "      <td>50.426047</td>\n",
              "      <td>356.435107</td>\n",
              "      <td>326.303957</td>\n",
              "      <td>415.312391</td>\n",
              "      <td>522.776411</td>\n",
              "      <td>50.737736</td>\n",
              "      <td>62.700754</td>\n",
              "      <td>48.186199</td>\n",
              "    </tr>\n",
              "    <tr>\n",
              "      <th>min</th>\n",
              "      <td>-200.000000</td>\n",
              "      <td>-200.000000</td>\n",
              "      <td>-200.000000</td>\n",
              "      <td>-200.000000</td>\n",
              "      <td>-200.000000</td>\n",
              "      <td>-200.000000</td>\n",
              "      <td>-200.000000</td>\n",
              "      <td>-200.000000</td>\n",
              "      <td>-200.000000</td>\n",
              "    </tr>\n",
              "    <tr>\n",
              "      <th>25%</th>\n",
              "      <td>925.500000</td>\n",
              "      <td>2.900000</td>\n",
              "      <td>643.500000</td>\n",
              "      <td>553.500000</td>\n",
              "      <td>906.000000</td>\n",
              "      <td>641.000000</td>\n",
              "      <td>4.700000</td>\n",
              "      <td>37.200000</td>\n",
              "      <td>0.413350</td>\n",
              "    </tr>\n",
              "    <tr>\n",
              "      <th>50%</th>\n",
              "      <td>1055.000000</td>\n",
              "      <td>5.800000</td>\n",
              "      <td>805.000000</td>\n",
              "      <td>721.000000</td>\n",
              "      <td>1084.000000</td>\n",
              "      <td>973.000000</td>\n",
              "      <td>8.600000</td>\n",
              "      <td>50.900000</td>\n",
              "      <td>0.596400</td>\n",
              "    </tr>\n",
              "    <tr>\n",
              "      <th>75%</th>\n",
              "      <td>1222.000000</td>\n",
              "      <td>11.200000</td>\n",
              "      <td>1021.500000</td>\n",
              "      <td>893.500000</td>\n",
              "      <td>1297.000000</td>\n",
              "      <td>1344.500000</td>\n",
              "      <td>13.400000</td>\n",
              "      <td>64.750000</td>\n",
              "      <td>0.804950</td>\n",
              "    </tr>\n",
              "    <tr>\n",
              "      <th>max</th>\n",
              "      <td>1846.000000</td>\n",
              "      <td>43.000000</td>\n",
              "      <td>1831.000000</td>\n",
              "      <td>1881.000000</td>\n",
              "      <td>2147.000000</td>\n",
              "      <td>2494.000000</td>\n",
              "      <td>30.000000</td>\n",
              "      <td>86.600000</td>\n",
              "      <td>1.393000</td>\n",
              "    </tr>\n",
              "  </tbody>\n",
              "</table>\n",
              "</div>"
            ],
            "text/plain": [
              "       PT08.S1(CO)     C6H6(GT)  ...           RH           AH\n",
              "count  2247.000000  2247.000000  ...  2247.000000  2247.000000\n",
              "mean   1029.544726    -4.497864  ...    36.932888   -11.670190\n",
              "std     373.059005    50.426047  ...    62.700754    48.186199\n",
              "min    -200.000000  -200.000000  ...  -200.000000  -200.000000\n",
              "25%     925.500000     2.900000  ...    37.200000     0.413350\n",
              "50%    1055.000000     5.800000  ...    50.900000     0.596400\n",
              "75%    1222.000000    11.200000  ...    64.750000     0.804950\n",
              "max    1846.000000    43.000000  ...    86.600000     1.393000\n",
              "\n",
              "[8 rows x 9 columns]"
            ]
          },
          "metadata": {
            "tags": []
          },
          "execution_count": 14
        }
      ]
    },
    {
      "cell_type": "markdown",
      "metadata": {
        "id": "DY8W_2ge0yil"
      },
      "source": [
        "As we can see, the median values for 2004 and 2005 are different. Hence, we should split the `df` DataFrame into two different DataFrames. One for 2004 data points and another for 2005 data points."
      ]
    },
    {
      "cell_type": "markdown",
      "metadata": {
        "id": "Xv6z2R3j1el6"
      },
      "source": [
        "---"
      ]
    },
    {
      "cell_type": "markdown",
      "metadata": {
        "id": "lBEtpZ5xb1MO"
      },
      "source": [
        "#### Activity 3: Garbage Value Replacement^^^\n",
        "\n",
        "Before we separate the DataFrame, let's calculate the count of 2004 and 2005 data points."
      ]
    },
    {
      "cell_type": "code",
      "metadata": {
        "id": "1HCdKdb8bsZF",
        "colab": {
          "base_uri": "https://localhost:8080/"
        },
        "outputId": "6920792f-59d8-4180-f0f8-8a816cd74332"
      },
      "source": [
        "# S3.1: Count the number of rows containing '2004' and '2005' year values.\n",
        "df['Year'].value_counts()"
      ],
      "execution_count": null,
      "outputs": [
        {
          "output_type": "execute_result",
          "data": {
            "text/plain": [
              "2004    7110\n",
              "2005    2247\n",
              "Name: Year, dtype: int64"
            ]
          },
          "metadata": {
            "tags": []
          },
          "execution_count": 15
        }
      ]
    },
    {
      "cell_type": "markdown",
      "metadata": {
        "id": "LfSNiYOVzbLI"
      },
      "source": [
        "The DataFrame for 2004 year should have 7110 rows which means the DataFrame for 2005 year should have 2247 rows."
      ]
    },
    {
      "cell_type": "code",
      "metadata": {
        "id": "DX_N7oKjb19r",
        "colab": {
          "base_uri": "https://localhost:8080/",
          "height": 204
        },
        "outputId": "613db5a7-2ae7-44fe-d711-1a1729b48b75"
      },
      "source": [
        "# S3.2: Create a new DataFrame containing records for the year 2004. Also, display the first five rows.\n",
        "aq_2004_df = df[df['Year'] == 2004]\n",
        "aq_2004_df.head()"
      ],
      "execution_count": null,
      "outputs": [
        {
          "output_type": "execute_result",
          "data": {
            "text/html": [
              "<div>\n",
              "<style scoped>\n",
              "    .dataframe tbody tr th:only-of-type {\n",
              "        vertical-align: middle;\n",
              "    }\n",
              "\n",
              "    .dataframe tbody tr th {\n",
              "        vertical-align: top;\n",
              "    }\n",
              "\n",
              "    .dataframe thead th {\n",
              "        text-align: right;\n",
              "    }\n",
              "</style>\n",
              "<table border=\"1\" class=\"dataframe\">\n",
              "  <thead>\n",
              "    <tr style=\"text-align: right;\">\n",
              "      <th></th>\n",
              "      <th>DateTime</th>\n",
              "      <th>PT08.S1(CO)</th>\n",
              "      <th>C6H6(GT)</th>\n",
              "      <th>PT08.S2(NMHC)</th>\n",
              "      <th>PT08.S3(NOx)</th>\n",
              "      <th>PT08.S4(NO2)</th>\n",
              "      <th>PT08.S5(O3)</th>\n",
              "      <th>T</th>\n",
              "      <th>RH</th>\n",
              "      <th>AH</th>\n",
              "      <th>Year</th>\n",
              "      <th>Month</th>\n",
              "      <th>Day</th>\n",
              "      <th>Day Name</th>\n",
              "    </tr>\n",
              "  </thead>\n",
              "  <tbody>\n",
              "    <tr>\n",
              "      <th>0</th>\n",
              "      <td>2004-03-10 18:00:00</td>\n",
              "      <td>1360.0</td>\n",
              "      <td>11.9</td>\n",
              "      <td>1046.0</td>\n",
              "      <td>1056.0</td>\n",
              "      <td>1692.0</td>\n",
              "      <td>1268.0</td>\n",
              "      <td>13.6</td>\n",
              "      <td>48.9</td>\n",
              "      <td>0.7578</td>\n",
              "      <td>2004</td>\n",
              "      <td>3</td>\n",
              "      <td>10</td>\n",
              "      <td>Wednesday</td>\n",
              "    </tr>\n",
              "    <tr>\n",
              "      <th>1</th>\n",
              "      <td>2004-03-10 19:00:00</td>\n",
              "      <td>1292.0</td>\n",
              "      <td>9.4</td>\n",
              "      <td>955.0</td>\n",
              "      <td>1174.0</td>\n",
              "      <td>1559.0</td>\n",
              "      <td>972.0</td>\n",
              "      <td>13.3</td>\n",
              "      <td>47.7</td>\n",
              "      <td>0.7255</td>\n",
              "      <td>2004</td>\n",
              "      <td>3</td>\n",
              "      <td>10</td>\n",
              "      <td>Wednesday</td>\n",
              "    </tr>\n",
              "    <tr>\n",
              "      <th>2</th>\n",
              "      <td>2004-03-10 20:00:00</td>\n",
              "      <td>1402.0</td>\n",
              "      <td>9.0</td>\n",
              "      <td>939.0</td>\n",
              "      <td>1140.0</td>\n",
              "      <td>1555.0</td>\n",
              "      <td>1074.0</td>\n",
              "      <td>11.9</td>\n",
              "      <td>54.0</td>\n",
              "      <td>0.7502</td>\n",
              "      <td>2004</td>\n",
              "      <td>3</td>\n",
              "      <td>10</td>\n",
              "      <td>Wednesday</td>\n",
              "    </tr>\n",
              "    <tr>\n",
              "      <th>3</th>\n",
              "      <td>2004-03-10 21:00:00</td>\n",
              "      <td>1376.0</td>\n",
              "      <td>9.2</td>\n",
              "      <td>948.0</td>\n",
              "      <td>1092.0</td>\n",
              "      <td>1584.0</td>\n",
              "      <td>1203.0</td>\n",
              "      <td>11.0</td>\n",
              "      <td>60.0</td>\n",
              "      <td>0.7867</td>\n",
              "      <td>2004</td>\n",
              "      <td>3</td>\n",
              "      <td>10</td>\n",
              "      <td>Wednesday</td>\n",
              "    </tr>\n",
              "    <tr>\n",
              "      <th>4</th>\n",
              "      <td>2004-03-10 22:00:00</td>\n",
              "      <td>1272.0</td>\n",
              "      <td>6.5</td>\n",
              "      <td>836.0</td>\n",
              "      <td>1205.0</td>\n",
              "      <td>1490.0</td>\n",
              "      <td>1110.0</td>\n",
              "      <td>11.2</td>\n",
              "      <td>59.6</td>\n",
              "      <td>0.7888</td>\n",
              "      <td>2004</td>\n",
              "      <td>3</td>\n",
              "      <td>10</td>\n",
              "      <td>Wednesday</td>\n",
              "    </tr>\n",
              "  </tbody>\n",
              "</table>\n",
              "</div>"
            ],
            "text/plain": [
              "             DateTime  PT08.S1(CO)  C6H6(GT)  ...  Month  Day   Day Name\n",
              "0 2004-03-10 18:00:00       1360.0      11.9  ...      3   10  Wednesday\n",
              "1 2004-03-10 19:00:00       1292.0       9.4  ...      3   10  Wednesday\n",
              "2 2004-03-10 20:00:00       1402.0       9.0  ...      3   10  Wednesday\n",
              "3 2004-03-10 21:00:00       1376.0       9.2  ...      3   10  Wednesday\n",
              "4 2004-03-10 22:00:00       1272.0       6.5  ...      3   10  Wednesday\n",
              "\n",
              "[5 rows x 14 columns]"
            ]
          },
          "metadata": {
            "tags": []
          },
          "execution_count": 16
        }
      ]
    },
    {
      "cell_type": "code",
      "metadata": {
        "id": "OfIamjv9b4iq",
        "colab": {
          "base_uri": "https://localhost:8080/"
        },
        "outputId": "58ca5005-91a1-4a85-fb94-0a126b9543de"
      },
      "source": [
        "# S3.3 Calculate the number of rows and columns in the DataFrame for the 2004 year records.\n",
        "aq_2004_df.shape"
      ],
      "execution_count": null,
      "outputs": [
        {
          "output_type": "execute_result",
          "data": {
            "text/plain": [
              "(7110, 14)"
            ]
          },
          "metadata": {
            "tags": []
          },
          "execution_count": 17
        }
      ]
    },
    {
      "cell_type": "code",
      "metadata": {
        "id": "OV-LTYaCb6eI",
        "colab": {
          "base_uri": "https://localhost:8080/",
          "height": 204
        },
        "outputId": "d14e32a5-3d31-47d6-c521-db704721581a"
      },
      "source": [
        "# S3.4: Create a new DataFrame containing records for the year 2005. Also, display the first five rows.\n",
        "aq_2005_df = df[df['Year'] == 2005]\n",
        "aq_2005_df.head()"
      ],
      "execution_count": null,
      "outputs": [
        {
          "output_type": "execute_result",
          "data": {
            "text/html": [
              "<div>\n",
              "<style scoped>\n",
              "    .dataframe tbody tr th:only-of-type {\n",
              "        vertical-align: middle;\n",
              "    }\n",
              "\n",
              "    .dataframe tbody tr th {\n",
              "        vertical-align: top;\n",
              "    }\n",
              "\n",
              "    .dataframe thead th {\n",
              "        text-align: right;\n",
              "    }\n",
              "</style>\n",
              "<table border=\"1\" class=\"dataframe\">\n",
              "  <thead>\n",
              "    <tr style=\"text-align: right;\">\n",
              "      <th></th>\n",
              "      <th>DateTime</th>\n",
              "      <th>PT08.S1(CO)</th>\n",
              "      <th>C6H6(GT)</th>\n",
              "      <th>PT08.S2(NMHC)</th>\n",
              "      <th>PT08.S3(NOx)</th>\n",
              "      <th>PT08.S4(NO2)</th>\n",
              "      <th>PT08.S5(O3)</th>\n",
              "      <th>T</th>\n",
              "      <th>RH</th>\n",
              "      <th>AH</th>\n",
              "      <th>Year</th>\n",
              "      <th>Month</th>\n",
              "      <th>Day</th>\n",
              "      <th>Day Name</th>\n",
              "    </tr>\n",
              "  </thead>\n",
              "  <tbody>\n",
              "    <tr>\n",
              "      <th>7110</th>\n",
              "      <td>2005-01-01 00:00:00</td>\n",
              "      <td>1046.0</td>\n",
              "      <td>4.2</td>\n",
              "      <td>724.0</td>\n",
              "      <td>848.0</td>\n",
              "      <td>898.0</td>\n",
              "      <td>1201.0</td>\n",
              "      <td>8.2</td>\n",
              "      <td>40.1</td>\n",
              "      <td>0.4375</td>\n",
              "      <td>2005</td>\n",
              "      <td>1</td>\n",
              "      <td>1</td>\n",
              "      <td>Saturday</td>\n",
              "    </tr>\n",
              "    <tr>\n",
              "      <th>7111</th>\n",
              "      <td>2005-01-01 01:00:00</td>\n",
              "      <td>1275.0</td>\n",
              "      <td>8.8</td>\n",
              "      <td>930.0</td>\n",
              "      <td>649.0</td>\n",
              "      <td>1024.0</td>\n",
              "      <td>1617.0</td>\n",
              "      <td>5.3</td>\n",
              "      <td>50.7</td>\n",
              "      <td>0.4564</td>\n",
              "      <td>2005</td>\n",
              "      <td>1</td>\n",
              "      <td>1</td>\n",
              "      <td>Saturday</td>\n",
              "    </tr>\n",
              "    <tr>\n",
              "      <th>7112</th>\n",
              "      <td>2005-01-01 02:00:00</td>\n",
              "      <td>1173.0</td>\n",
              "      <td>7.5</td>\n",
              "      <td>878.0</td>\n",
              "      <td>738.0</td>\n",
              "      <td>1002.0</td>\n",
              "      <td>1355.0</td>\n",
              "      <td>5.9</td>\n",
              "      <td>50.0</td>\n",
              "      <td>0.4689</td>\n",
              "      <td>2005</td>\n",
              "      <td>1</td>\n",
              "      <td>1</td>\n",
              "      <td>Saturday</td>\n",
              "    </tr>\n",
              "    <tr>\n",
              "      <th>7113</th>\n",
              "      <td>2005-01-01 03:00:00</td>\n",
              "      <td>1163.0</td>\n",
              "      <td>7.6</td>\n",
              "      <td>881.0</td>\n",
              "      <td>748.0</td>\n",
              "      <td>1001.0</td>\n",
              "      <td>1296.0</td>\n",
              "      <td>4.9</td>\n",
              "      <td>53.9</td>\n",
              "      <td>0.4693</td>\n",
              "      <td>2005</td>\n",
              "      <td>1</td>\n",
              "      <td>1</td>\n",
              "      <td>Saturday</td>\n",
              "    </tr>\n",
              "    <tr>\n",
              "      <th>7114</th>\n",
              "      <td>2005-01-01 04:00:00</td>\n",
              "      <td>1054.0</td>\n",
              "      <td>5.6</td>\n",
              "      <td>791.0</td>\n",
              "      <td>830.0</td>\n",
              "      <td>967.0</td>\n",
              "      <td>1131.0</td>\n",
              "      <td>4.3</td>\n",
              "      <td>55.3</td>\n",
              "      <td>0.4650</td>\n",
              "      <td>2005</td>\n",
              "      <td>1</td>\n",
              "      <td>1</td>\n",
              "      <td>Saturday</td>\n",
              "    </tr>\n",
              "  </tbody>\n",
              "</table>\n",
              "</div>"
            ],
            "text/plain": [
              "                DateTime  PT08.S1(CO)  C6H6(GT)  ...  Month  Day  Day Name\n",
              "7110 2005-01-01 00:00:00       1046.0       4.2  ...      1    1  Saturday\n",
              "7111 2005-01-01 01:00:00       1275.0       8.8  ...      1    1  Saturday\n",
              "7112 2005-01-01 02:00:00       1173.0       7.5  ...      1    1  Saturday\n",
              "7113 2005-01-01 03:00:00       1163.0       7.6  ...      1    1  Saturday\n",
              "7114 2005-01-01 04:00:00       1054.0       5.6  ...      1    1  Saturday\n",
              "\n",
              "[5 rows x 14 columns]"
            ]
          },
          "metadata": {
            "tags": []
          },
          "execution_count": 18
        }
      ]
    },
    {
      "cell_type": "code",
      "metadata": {
        "id": "LGMt9A_hb-Ma",
        "colab": {
          "base_uri": "https://localhost:8080/"
        },
        "outputId": "52f2e961-a354-4aae-9cf0-b1fd79f3cfe6"
      },
      "source": [
        "# S3.5 Calculate the number of rows and columns in the DataFrame for the 2004 year records.\n",
        "aq_2005_df.shape"
      ],
      "execution_count": null,
      "outputs": [
        {
          "output_type": "execute_result",
          "data": {
            "text/plain": [
              "(2247, 14)"
            ]
          },
          "metadata": {
            "tags": []
          },
          "execution_count": 19
        }
      ]
    },
    {
      "cell_type": "markdown",
      "metadata": {
        "id": "ebn1SrZC2qZF"
      },
      "source": [
        "Now, let's replace the `-200` value with the median values for each column having indices between 1 and -4 (excluding -4) for both the 2004 and 2005 year DataFrames."
      ]
    },
    {
      "cell_type": "code",
      "metadata": {
        "id": "z_L4Vk0LcCDm"
      },
      "source": [
        "# T3.1: Replace the -200 value with the median values for each column having indices between 1 and -4 (excluding -4) for the 2004 year DataFrame.\n",
        "import warnings\n",
        "warnings.filterwarnings('ignore')\n",
        "\n",
        "for col in aq_2004_df.columns[1:-4]:\n",
        "  median = aq_2004_df.loc[aq_2004_df[col] != -200, col].median() # Get the median value for each column after excluding -200.\n",
        "  aq_2004_df[col] = aq_2004_df[col].replace(to_replace=-200, value=median)"
      ],
      "execution_count": null,
      "outputs": []
    },
    {
      "cell_type": "markdown",
      "metadata": {
        "id": "3WGTtIEMuKPi"
      },
      "source": [
        "```\n",
        "import warnings\n",
        "warnings.filterwarnings('ignore')\n",
        "```\n",
        "\n",
        "The above code will remove all the warnings that we may get."
      ]
    },
    {
      "cell_type": "code",
      "metadata": {
        "id": "c3-WHh7lcGNy"
      },
      "source": [
        "# S3.6: Repeat the same exercise for the 2005 year DataFrame.\n",
        "for col in aq_2005_df.columns[1:-4]:\n",
        "  median = aq_2005_df.loc[aq_2005_df[col] != -200, col].median()\n",
        "  aq_2005_df[col] = aq_2005_df[col].replace(to_replace=-200, value=median)"
      ],
      "execution_count": null,
      "outputs": []
    },
    {
      "cell_type": "markdown",
      "metadata": {
        "id": "5yHuQJOI31t_"
      },
      "source": [
        "Now, let's again, calculate the number of rows containing '-200' in each column except for the `DateTime, Year, Month` and `Day` columns in both the DataFrames."
      ]
    },
    {
      "cell_type": "code",
      "metadata": {
        "id": "tbefMOs_cILq",
        "colab": {
          "base_uri": "https://localhost:8080/"
        },
        "outputId": "b13d3503-65bf-47ae-9f3a-106dd4ae61aa"
      },
      "source": [
        "# S3.7: Compute the number of rows containing '-200' in each column having indices between 1 and -4 (excluding -4) in the 2004 year DataFrame.\n",
        "neg_val_2004 = [(col, aq_2004_df[aq_2004_df[col] == -200].shape[0]) for col in df.columns[1:-4]]\n",
        "neg_val_2004"
      ],
      "execution_count": null,
      "outputs": [
        {
          "output_type": "execute_result",
          "data": {
            "text/plain": [
              "[('PT08.S1(CO)', 0),\n",
              " ('C6H6(GT)', 0),\n",
              " ('PT08.S2(NMHC)', 0),\n",
              " ('PT08.S3(NOx)', 0),\n",
              " ('PT08.S4(NO2)', 0),\n",
              " ('PT08.S5(O3)', 0),\n",
              " ('T', 0),\n",
              " ('RH', 0),\n",
              " ('AH', 0)]"
            ]
          },
          "metadata": {
            "tags": []
          },
          "execution_count": 22
        }
      ]
    },
    {
      "cell_type": "code",
      "metadata": {
        "id": "YkW93PNTcKtg",
        "colab": {
          "base_uri": "https://localhost:8080/"
        },
        "outputId": "f928ac18-13dc-4c48-8b72-40525f4b078c"
      },
      "source": [
        "# S3.8: Again, calculate the percentage of rows containing '-200' in each column except for the 'DateTime', 'Year', 'Month' and 'Day' columns.\n",
        "neg_val_2005 = [(col, aq_2005_df[aq_2005_df[col] == -200].shape[0]) for col in df.columns[1:-4]]\n",
        "neg_val_2005"
      ],
      "execution_count": null,
      "outputs": [
        {
          "output_type": "execute_result",
          "data": {
            "text/plain": [
              "[('PT08.S1(CO)', 0),\n",
              " ('C6H6(GT)', 0),\n",
              " ('PT08.S2(NMHC)', 0),\n",
              " ('PT08.S3(NOx)', 0),\n",
              " ('PT08.S4(NO2)', 0),\n",
              " ('PT08.S5(O3)', 0),\n",
              " ('T', 0),\n",
              " ('RH', 0),\n",
              " ('AH', 0)]"
            ]
          },
          "metadata": {
            "tags": []
          },
          "execution_count": 23
        }
      ]
    },
    {
      "cell_type": "markdown",
      "metadata": {
        "id": "9QvvVwQ056a5"
      },
      "source": [
        "Let's pause here. In the next class, we will learn how to group a DataFrame about a particular column to perform aggregation operations such as count, mean, median and sum. "
      ]
    },
    {
      "cell_type": "markdown",
      "metadata": {
        "id": "XdlP6if3554T"
      },
      "source": [
        "---"
      ]
    },
    {
      "cell_type": "markdown",
      "metadata": {
        "id": "Xzx9SG3A6o5U"
      },
      "source": [
        "#### Activities\n",
        "\n",
        "**Teacher Activities**\n",
        "\n",
        "1. Air Quality Analysis - Data Cleaning (Class Copy)\n",
        "\n",
        "   https://colab.research.google.com/drive/1oY8-DPgjTYTALDMVRjrdNO7R7YNxw3in\n",
        "   \n",
        "2. Air Quality Analysis - Data Cleaning (Reference)\n",
        "\n",
        "   https://colab.research.google.com/drive/1MMW7IovWOQ61cWTgCqp8O7gMiMI_s5Hm"
      ]
    },
    {
      "cell_type": "markdown",
      "metadata": {
        "id": "sgHJ6hFd67Jy"
      },
      "source": [
        "---"
      ]
    }
  ]
}