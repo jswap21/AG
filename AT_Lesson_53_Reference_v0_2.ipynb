{
  "nbformat": 4,
  "nbformat_minor": 0,
  "metadata": {
    "colab": {
      "provenance": [],
      "collapsed_sections": [],
      "include_colab_link": true
    },
    "kernelspec": {
      "name": "python3",
      "display_name": "Python 3"
    }
  },
  "cells": [
    {
      "cell_type": "markdown",
      "metadata": {
        "id": "view-in-github",
        "colab_type": "text"
      },
      "source": [
        "<a href=\"https://colab.research.google.com/github/jswap21/AG/blob/main/AT_Lesson_53_Reference_v0_2.ipynb\" target=\"_parent\"><img src=\"https://colab.research.google.com/assets/colab-badge.svg\" alt=\"Open In Colab\"/></a>"
      ]
    },
    {
      "cell_type": "markdown",
      "metadata": {
        "id": "wXOH90ddtwL2"
      },
      "source": [
        "# Lesson 53: OOP - Inheritance\n"
      ]
    },
    {
      "cell_type": "markdown",
      "metadata": {
        "id": "MwcgnJ6pfhRa"
      },
      "source": [
        "**WARNING:** The reference notebook is meant **ONLY** for a teacher. Please **DON'T** share it with any student. \n",
        "\n",
        "The contents of the reference notebook are meant only to prepare a teacher for a class. To conduct the class, use the class copy of the reference notebook. The link and the instructions for the same are provided in the **Notes To The Teacher** section.\n",
        "\n",
        "|Particulars|Description|\n",
        "|-|-|\n",
        "|**Topic**|OOP - Inheritance|\n",
        "|||\n",
        "|**Class Description**|A student learns to create a reusable code using inheritance principle of OOP| \n",
        "|||\n",
        "|**Class**|C53|\n",
        "|||\n",
        "|**Class Time**|45 minutes|\n",
        "|||\n",
        "|**Goals**|Create parent and child classes|\n",
        "||Inherit the parent class attribute(s) in a child class|\n",
        "|||\n",
        "|**Teacher Resources**|Google Account|\n",
        "||Laptop with internet connectivity|\n",
        "||Earphones with mic|\n",
        "|||\n",
        "|**Student Resources**|Google Account|\n",
        "||Laptop with internet connectivity|\n",
        "||Earphones with mic|\n"
      ]
    },
    {
      "cell_type": "markdown",
      "metadata": {
        "id": "GKxriZHwm33R"
      },
      "source": [
        "---"
      ]
    },
    {
      "cell_type": "markdown",
      "metadata": {
        "id": "tRyOgcluHCr_"
      },
      "source": [
        "### Warm-up Quiz\n",
        "\n",
        "```\n",
        "TEACHER\n",
        "I have an exciting quiz question for you! Are you ready to answer this question?\n",
        "\n",
        "EXPECTED STUDENT RESPONSE\n",
        "Yes.\n",
        "```\n",
        "\n",
        "**Instructions for the Teacher:**\n",
        "- Please click on the \"Quiz Time\" button on the bottom right corner of your screen to start the In-Class Quiz. <img src='https://student-datasets-bucket.s3.ap-south-1.amazonaws.com/images/quiz-time.png' width = 150>\n",
        "\n",
        "- A quiz will be visible to both you and the student. Encourage the student to answer the quiz question. \n",
        "\n",
        "- The student may choose the wrong option, help the student to think correctly about the question and then answer again. \n",
        "\n",
        "- After the student selects the correct option, the \"End Quiz\" button will start appearing on your screen. <img src='https://student-datasets-bucket.s3.ap-south-1.amazonaws.com/images/end-quiz.png' width = 150>  \n",
        "\n",
        "- Click the \"End quiz\" button to close the quiz pop-up and continue the class. \n",
        "  \n",
        "- Do not spend more than 2 minutes on this quiz.\n",
        "\n",
        "\n"
      ]
    },
    {
      "cell_type": "markdown",
      "metadata": {
        "id": "9VPh7shNHDoR"
      },
      "source": [
        "---"
      ]
    },
    {
      "cell_type": "markdown",
      "metadata": {
        "id": "GbhgAn5kfd-K"
      },
      "source": [
        "### Teacher-Student Activities\n",
        "\n",
        "In this class, we will first learn about `__repr__()` function and then we will move to a new concept called inheritance which is one of the pillars of object oriented programming.\n",
        "\n",
        "We are going to learn how a Python class shares its properties with other classes. Inheritance is like the concept of a family where children inherit from their parents.  \n",
        "\n"
      ]
    },
    {
      "cell_type": "markdown",
      "metadata": {
        "id": "PMCGHA8pfcqL"
      },
      "source": [
        "---"
      ]
    },
    {
      "cell_type": "markdown",
      "metadata": {
        "id": "p1d093i0_gsc"
      },
      "source": [
        "#### Recap\n",
        "\n",
        "In the previous lesson, we learned how to initialise instance variables of a class `Family` using its constructor. We had also created four objects of this class i.e. `father`, `mother`, `sister` and `brother` and added them to the empty list `parr_family`."
      ]
    },
    {
      "cell_type": "code",
      "metadata": {
        "id": "yfnIfK9W92k2",
        "colab": {
          "base_uri": "https://localhost:8080/",
          "height": 289
        },
        "outputId": "c4a9af58-fabb-4bab-ae9a-71747a60eebe"
      },
      "source": [
        "# Create a class 'Family' and initialise its instance variables through a constructor.\n",
        "class Family:\n",
        "\n",
        "  def __init__(self, first_name, last_name, age, relation):\n",
        "    self.first_name = first_name\n",
        "    self.last_name = last_name\n",
        "    self.age = age\n",
        "    self.relation = relation\n",
        "\n",
        "  # Create a function to generate the full name of a family member.\n",
        "  def full_name(self):\n",
        "    return self.first_name.title() + \" \" + self.last_name.title()\n",
        "\n",
        "# Create an empty list called 'parr_family' and add the objects for father, mother, sister and brother in the list.\n",
        "\n",
        "parr_family = []\n",
        "\n",
        "# Create four objects with their corresponding values:\n",
        "\n",
        "father = Family('bob', 'parr', 40, 'father')\n",
        "mother = Family('helen', 'parr', 38, 'mother')\n",
        "sibling_1 = Family('violet', 'parr', 14, 'sister')\n",
        "sibling_2 = Family('dash', 'parr', 10, 'brother')\n",
        "\n",
        "# Append each object to the list\n",
        "parr_family.append(father)\n",
        "parr_family.append(mother)\n",
        "parr_family.append(sibling_1)\n",
        "parr_family.append(sibling_2)\n",
        "\n",
        "# Print the attributes of each member using a 'for' loop.\n",
        "for member in parr_family:\n",
        "  print(\"Full Name:\", member.full_name(), \n",
        "        \"\\nAge:\", member.age, \n",
        "        \"\\nRelation:\", member.relation, \"\\n\")"
      ],
      "execution_count": null,
      "outputs": [
        {
          "output_type": "stream",
          "text": [
            "Full Name: Bob Parr \n",
            "Age: 40 \n",
            "Relation: father \n",
            "\n",
            "Full Name: Helen Parr \n",
            "Age: 38 \n",
            "Relation: mother \n",
            "\n",
            "Full Name: Violet Parr \n",
            "Age: 14 \n",
            "Relation: sister \n",
            "\n",
            "Full Name: Dash Parr \n",
            "Age: 10 \n",
            "Relation: brother \n",
            "\n"
          ],
          "name": "stdout"
        }
      ]
    },
    {
      "cell_type": "markdown",
      "metadata": {
        "id": "hEKhKNwIDJqd"
      },
      "source": [
        "---"
      ]
    },
    {
      "cell_type": "markdown",
      "metadata": {
        "id": "02i6WSkZ6WcG"
      },
      "source": [
        "#### Activity 1: The `__repr__()` Function\n",
        "\n",
        "What would happen if we try to print the value of an object of a class?\n",
        "\n",
        "The variables `father, mother, sibling_1, sibling_2` stores the different objects of the `Family` class. What will happen if we try to print the values of these variables?"
      ]
    },
    {
      "cell_type": "code",
      "metadata": {
        "id": "Ja8S4qEh6ZDs",
        "colab": {
          "base_uri": "https://localhost:8080/",
          "height": 85
        },
        "outputId": "b9dbc4e0-557d-4c92-a4d4-cecb42c91984"
      },
      "source": [
        "# S1.1: Print each object of the 'Family' class.\n",
        "for member in parr_family:\n",
        "  print(member)"
      ],
      "execution_count": null,
      "outputs": [
        {
          "output_type": "stream",
          "text": [
            "<__main__.Family object at 0x7fea4c2a0630>\n",
            "<__main__.Family object at 0x7fea4c2a05f8>\n",
            "<__main__.Family object at 0x7fea4c2a06d8>\n",
            "<__main__.Family object at 0x7fea4c2a0710>\n"
          ],
          "name": "stdout"
        }
      ]
    },
    {
      "cell_type": "markdown",
      "metadata": {
        "id": "0T2JPENE6dAO"
      },
      "source": [
        "If we try to print the values of an object of a class, we get some weird output. These outputs represent the location of the object in the memory. Instead of printing the memory location of an object of a class, let's try to print the name of the object for which we need to name an object created. So, how to name an object? Let me show it to you.\n",
        "\n",
        "To name an object, create a function called `__repr__()` function which gives a string representation to an object of a class.\n",
        "\n",
        "Suppose for every `Family` object, we want to give the first name of a member as the object name, then we can use the `__repr__()` function."
      ]
    },
    {
      "cell_type": "code",
      "metadata": {
        "id": "YZOU4HAy6f7z"
      },
      "source": [
        "# S1.2: Demonstrate how to name an object of a class using the __repr__() function.\n",
        "class Family:\n",
        "\n",
        "  def __init__(self, first_name, last_name, age, relation):\n",
        "    self.first_name = first_name\n",
        "    self.last_name = last_name\n",
        "    self.age = age\n",
        "    self.relation = relation\n",
        "\n",
        "  # create a function, to generate the full name of a family member.\n",
        "  def full_name(self):\n",
        "    return self.first_name.title() + \" \" + self.last_name.title()\n",
        "\n",
        "  def __repr__(self):\n",
        "    #return self.first_name\n",
        "    return \"family class\""
      ],
      "execution_count": null,
      "outputs": []
    },
    {
      "cell_type": "markdown",
      "metadata": {
        "id": "RV-RUPTd6j3D"
      },
      "source": [
        "Now, let's recreate all the 5 objects again."
      ]
    },
    {
      "cell_type": "code",
      "metadata": {
        "id": "3MTxk2Uu6lzD",
        "colab": {
          "base_uri": "https://localhost:8080/",
          "height": 85
        },
        "outputId": "806ed7f9-a3f3-4f81-ad58-6b15f390dc30"
      },
      "source": [
        "# S1.3: Recreate all the 5 objects of the 'Family' class again and print the objects.\n",
        "father = Family('bob', 'parr', 40, 'father')\n",
        "mother = Family('helen', 'parr', 38, 'mother')\n",
        "sibling_1 = Family('violet', 'parr', 14, 'sister')\n",
        "sibling_2 = Family('dash', 'parr', 10, 'brother')\n",
        "\n",
        "print(father)\n",
        "print(mother)\n",
        "print(sibling_1)\n",
        "print(sibling_2)"
      ],
      "execution_count": null,
      "outputs": [
        {
          "output_type": "stream",
          "text": [
            "family class\n",
            "family class\n",
            "family class\n",
            "family class\n"
          ],
          "name": "stdout"
        }
      ]
    },
    {
      "cell_type": "markdown",
      "metadata": {
        "id": "5SpDcV5r6o5E"
      },
      "source": [
        "As you can see, we have labelled each object with the first name of a family member, using the `__repr__()` function.\n",
        "\n",
        "Now, you do the following tasks:\n",
        "\n",
        "1. Add the `__init__()` method in the dog class which takes an input and stores in an instance variable called `dog_breed`.\n",
        "\n",
        "2. Add the `__repr__()` function in the dog class which returns the value of the `dog_breed` variable.\n",
        "\n",
        "3. Recreate the `beagle, husky` and `golden_retriever` variables such that they store the objects of the `Dog` class. Make sure that you enter the value for the `dog_breed` variable inside the constructor.\n",
        "\n",
        "4. Print the values of the `beagle, husky` and `golden_retriever` variables."
      ]
    },
    {
      "cell_type": "code",
      "metadata": {
        "id": "lzMJtdJh6sgf",
        "colab": {
          "base_uri": "https://localhost:8080/",
          "height": 68
        },
        "outputId": "259e69da-b464-47ad-adb7-fd882913abfe"
      },
      "source": [
        "# S1.4: Label every object of the 'Dog' class with its breed name.\n",
        "class Dog:\n",
        "  num_of_legs = 4\n",
        "  can_fly = False\n",
        "  num_of_teeth = 42\n",
        "  have_beak = False\n",
        "  lay_eggs = False\n",
        "\n",
        "  def __init__(self, dog_breed):\n",
        "    self.dog_breed = dog_breed\n",
        "\n",
        "  def __repr__(self):\n",
        "    return self.dog_breed\n",
        "\n",
        "  def bark(self):\n",
        "    return \"Woof-Woof!\"\n",
        "\n",
        "husky = Dog('Husky')\n",
        "beagle = Dog('Beagle')\n",
        "golden_retriever = Dog('Golden Retriever')\n",
        "\n",
        "print(husky)\n",
        "print(beagle)\n",
        "print(golden_retriever)"
      ],
      "execution_count": null,
      "outputs": [
        {
          "output_type": "stream",
          "text": [
            "Husky\n",
            "Beagle\n",
            "Golden Retriever\n"
          ],
          "name": "stdout"
        }
      ]
    },
    {
      "cell_type": "markdown",
      "metadata": {
        "id": "P66CMMX06vId"
      },
      "source": [
        "As you can see, after printing the values of the objects of the `Dog` class, we don't get any weird output because we have provided a string representation to any object of the `Dog` class by using the `__repr__()` function.\n",
        "\n",
        "Let's start with a new concept of OOP called as **Inheritance** wherein we will see how one class can use the properties of other classes."
      ]
    },
    {
      "cell_type": "markdown",
      "metadata": {
        "id": "7ZI9W_s3E55H"
      },
      "source": [
        "---"
      ]
    },
    {
      "cell_type": "markdown",
      "metadata": {
        "id": "nXGkqAvVgY8V"
      },
      "source": [
        "#### Activity 2: The `Person` Class\n",
        "\n",
        "Let's try to create a very simple application using the OOP approach to manage the teacher and student database consisting of all the teachers and students of your school.\n",
        "\n",
        "Let's first create a class called `Person` containing name, age and gender attributes. These attributes will be common to both the teachers and the students."
      ]
    },
    {
      "cell_type": "code",
      "metadata": {
        "id": "E_IaPN3qWNPR"
      },
      "source": [
        "# S2.1 Create the 'Person' class having the 'name', 'age' and 'gender' attributes.\n",
        "class Person:\n",
        "  def __init__(self, name, age, gender):\n",
        "    self.name = name\n",
        "    self.age = age\n",
        "    self.gender = gender"
      ],
      "execution_count": null,
      "outputs": []
    },
    {
      "cell_type": "markdown",
      "metadata": {
        "id": "26PkeGUJnlwz"
      },
      "source": [
        "After the successful creation of the `Person` class, let's create its object with the name `person1` and instantiate its attributes using its constructor. Inside the constructor, we need to provide the following:\n",
        "\n",
        "* Name of a person\n",
        "* Age of that person\n",
        "* Gender of that person"
      ]
    },
    {
      "cell_type": "code",
      "metadata": {
        "id": "r2GFd17riOHg",
        "colab": {
          "base_uri": "https://localhost:8080/",
          "height": 68
        },
        "outputId": "6ae9f20c-20a4-4fa7-c134-3ef3615d6132"
      },
      "source": [
        "# S2.2: Create an object of the 'Person' class and retrieve all the attributes.\n",
        "person1 = Person('Bruce Wayne', 28, 'male')\n",
        "print(\"Name: {}\\nAge: {}\\nGender: {}\".format(person1.name, person1.age, person1.gender))"
      ],
      "execution_count": null,
      "outputs": [
        {
          "output_type": "stream",
          "text": [
            "Name: Bruce Wayne\n",
            "Age: 28\n",
            "Gender: male\n"
          ],
          "name": "stdout"
        }
      ]
    },
    {
      "cell_type": "markdown",
      "metadata": {
        "id": "GqINQvK5rMHe"
      },
      "source": [
        "As we have learned in the earlier class, the instance variables of an instance (or object) of a class (in this case `name`, `age`, and `gender`) can be accessed through the dot operator.\n",
        "\n",
        "Now, we will create two classes called `Teacher` and `Student`. They both will have the following three attributes in common:\n",
        "\n",
        "* Name of a person\n",
        "* Age of that person\n",
        "* Gender of that person\n",
        "\n",
        "Hence, in order to avoid creating these three attributes twice; one time for the `Teacher` class and another time for the `Student` class, we have created the `Person` class. Later if we want to create another class which also shares the above three attributes, then it can inherit them through the `Person` class. This is called **inheritance**.\n",
        "\n",
        "Let's study the concept in detail.\n"
      ]
    },
    {
      "cell_type": "markdown",
      "metadata": {
        "id": "Wb8ElmJRO9Gl"
      },
      "source": [
        "---"
      ]
    },
    {
      "cell_type": "markdown",
      "metadata": {
        "id": "j4VCjENzSBhU"
      },
      "source": [
        "#### What is Inheritance?\n",
        "\n",
        "In the technical terms, the concept of inheritance means sharing the common properties and methods between two or more classes.\n",
        "\n",
        "The class from which properties are inherited is called the **Parent Class** or **Base Class** and the class which is inheriting the properties is called the **Child Class** or **Derived Class**.\n",
        "\n",
        "In plain English, you can say that \"*The child class inherits the properties of the parent class or the derived class is formed using the base class properties*\".\n",
        "\n",
        "#### Types of Inheritance\n",
        "\n",
        "The type of inheritance is based on the number of children classes of a base class. There are five types of inheritance but we are going to study only the following two types as they are used most commonly in the majority of the applications:\n",
        "\n",
        "*   Single-level inheritance\n",
        "*   Multi-level inheritance\n",
        "\n",
        "<img src = 'https://drive.google.com/uc?export=view&id=11ea8qGgcWYXyFpzITgfV5331LLTtgBc2' width = 500>\n"
      ]
    },
    {
      "cell_type": "markdown",
      "metadata": {
        "id": "iy-DfLB2jjs8"
      },
      "source": [
        "---"
      ]
    },
    {
      "cell_type": "markdown",
      "metadata": {
        "id": "sh4ypW91eOoN"
      },
      "source": [
        "#### Activity 3: Single-level Inheritance^\n",
        "\n",
        "In single-level level inheritance, a child class inherits only from one parent class. The child class can have its own variables and functions in addition to the existing properties and methods of the parent class.\n",
        "\n",
        "Let's create another class called `Teacher` which inherits all the attributes from the `Person` class. The `Teacher` class should have the following attributes, additional attributes and methods.\n",
        "\n",
        "**Attributes**\n",
        "\n",
        "- Name of a teacher\n",
        "\n",
        "- Age of the teacher\n",
        "\n",
        "- Gender of the teacher\n",
        "\n",
        "\n",
        "**Additional Attributes:**\n",
        "\n",
        "- List of subjects taught by a teacher\n",
        "\n",
        "- List of grades in the school for which the teacher takes lectures for the above subjects\n",
        "\n",
        "**Methods:**\n",
        "\n",
        "- A function to add a new subject\n",
        "\n",
        "- A function to remove an existing subject\n",
        "\n",
        "- A function to add a new grade\n",
        "\n",
        "- A function to remove an existing grade\n",
        "\n",
        "To create a child class, follow the steps given below:\n",
        "\n",
        "1. Write the parent class name enclosed within the round brackets, i.e., `()` after the name of the child class as shown in the syntax below.\n",
        "\n",
        "   **Syntax:**  `class ChildClass(ParentClass)`\n",
        "\n",
        "2. Inherit the properties of the parent class by creating a constructor for the child class followed by calling the constructor of the parent class inside the `__init__()` function.\n",
        "\n",
        "   There are two ways to call the parent class constructor to inherit the properties/methods of the parent class:\n",
        "\n",
        "   1. > `ParentClass.__init__(self)`: In this approach, the `self` keyword is necessarily required.\n",
        "\n",
        "   2. > `super().__init__()`: In this approach, the `self` keyword is not required.\n",
        "\n",
        "3. Create methods for the child class \n",
        "\n",
        "**What is `super()`?**\n",
        "\n",
        "`super()` creates a temporary object reference for the parent class so that the variables of the parent class are initialised without using its name explicitly.\n",
        "\n",
        "Let's create the constructor for `Teacher` using the class name `super()` keyword.\n",
        "\n",
        " **Note** In the child class constructor, we have to initialise only its own variables but when the object is created we will ask for the parent class properties as well. Hence the constructor arguments will have variables of the parent class as well as child class.\n",
        "\n"
      ]
    },
    {
      "cell_type": "code",
      "metadata": {
        "id": "KgVoJYElgZcv"
      },
      "source": [
        "# S3.1: Create the 'Teacher' class as specified above.\n",
        "class Teacher(Person):\n",
        "\n",
        "  # Create the child class constructor\n",
        "  def __init__(self, name, age, gender, subjects = None, grades = None): # Setting initial values as None for 'subjects' & 'grades' list.\n",
        "\n",
        "    # Call the parent class constructor using 'super()'\n",
        "    super().__init__(name, age, gender)\n",
        "    self.subjects = []\n",
        "    self.grades = []\n",
        "\n",
        "  # Create a method to add a new subject to the list of the subjects.\n",
        "  def add_subject(self, new_subject):\n",
        "    if new_subject not in self.subjects:\n",
        "      self.subjects.append(new_subject)\n",
        "    else:\n",
        "      print(f\"{new_subject.title()} already exists.\")\n",
        "  \n",
        "  # Create a method to remove an existing subject from the list of the subjects.\n",
        "  def remove_subject(self, old_subject):\n",
        "    if old_subject in self.subjects:\n",
        "      self.subjects.remove(old_subject)\n",
        "    else:\n",
        "      print(f\"{old_subject.title()} does not exist.\")\n",
        "\n",
        "  # Create a method to add a new grade to the list of the grades.\n",
        "  def add_grade(self, new_grade):\n",
        "    if new_grade not in self.grades:\n",
        "      self.grades.append(new_grade)\n",
        "    else:\n",
        "      print(f\"{new_grade} already exists.\")\n",
        "  \n",
        "  # Create a method to remove an existing grade from the list of the grades.\n",
        "  def remove_grade(self, old_grade):\n",
        "    if old_grade in self.grades:\n",
        "      self.grades.remove(old_grade)\n",
        "    else:\n",
        "      print(f\"{old_grade} does not exist.\")\n",
        "    "
      ],
      "execution_count": null,
      "outputs": []
    },
    {
      "cell_type": "markdown",
      "metadata": {
        "id": "ysfYzscHtTvg"
      },
      "source": [
        "After creating the `Teacher` class (a child class for the `Person` class), let's create its object to see how inheritance works."
      ]
    },
    {
      "cell_type": "code",
      "metadata": {
        "id": "0nyfFpb_Z_WX",
        "colab": {
          "base_uri": "https://localhost:8080/",
          "height": 68
        },
        "outputId": "f1e4d5aa-2837-4e8b-98e0-9e79f83ae1db"
      },
      "source": [
        "# S3.2: Create an object of the 'Teacher' class and retrieve all the 'Person' class attributes with just name, age, gender.\n",
        "teacher1 = Teacher('Shakuntala Devi', 60, 'female')\n",
        "print(\"Name: {}\\nAge: {}\\nGender: {}\".format(teacher1.name, teacher1.age, teacher1.gender))"
      ],
      "execution_count": null,
      "outputs": [
        {
          "output_type": "stream",
          "text": [
            "Name: Shakuntala Devi\n",
            "Age: 60\n",
            "Gender: female\n"
          ],
          "name": "stdout"
        }
      ]
    },
    {
      "cell_type": "markdown",
      "metadata": {
        "id": "N25I5QJ9yWnU"
      },
      "source": [
        "As you can see, an object of the `Teacher` class is created having the same attributes as the `Person` class, i.e., `name`, `age` and `gender` which are defined in the `Person` class. You can access them from the `Teacher` class because inside the constructor of the `Teacher` class, you are calling the constructor of the `Person` class \n",
        "\n",
        "```\n",
        "def  __init__ (self, name, age, gender, subjects = None, grades = None):\n",
        "```\n",
        "\n",
        "as well as calling the constructor of the `Person` class\n",
        "\n",
        "```\n",
        "def  __init__ (self, name, age, gender, subjects = None, grades = None):\n",
        "  super().__init__(name, age, gender)\n",
        "```\n",
        "\n",
        "This makes the first three parameters compulsory, while `subjects` and `grades` are initialised by default with `None` (an empty value).\n",
        "\n",
        "And we can access and initialise the variables of the parent class and call them using the child class object because we have inherited the parent class attributes in the child class.\n",
        "\n",
        "Now let's try to access the child class attributes, i.e., `subjects` and `grades` and update them as well.\n"
      ]
    },
    {
      "cell_type": "code",
      "metadata": {
        "id": "eAKxdlaEaHIo",
        "colab": {
          "base_uri": "https://localhost:8080/",
          "height": 34
        },
        "outputId": "c26d13f1-d001-4d97-92ce-ed4a3eb56fdc"
      },
      "source": [
        "# S3.3: Get all the subjects taught by the teacher object created above.\n",
        "teacher1.subjects"
      ],
      "execution_count": null,
      "outputs": [
        {
          "output_type": "execute_result",
          "data": {
            "text/plain": [
              "[]"
            ]
          },
          "metadata": {
            "tags": []
          },
          "execution_count": 14
        }
      ]
    },
    {
      "cell_type": "markdown",
      "metadata": {
        "id": "eaQhkqVV01eL"
      },
      "source": [
        "It is an empty list. Let's add a new subject, say maths, by calling the `add_subject()` function with `'maths'` as its input."
      ]
    },
    {
      "cell_type": "code",
      "metadata": {
        "id": "1pw-5SNmaK7u",
        "colab": {
          "base_uri": "https://localhost:8080/",
          "height": 34
        },
        "outputId": "9fcd2e4c-a7e4-4266-982b-79f04a81cd4f"
      },
      "source": [
        "# S3.4: Add the 'maths' subject to the list of subjects taught by the teacher object created above.\n",
        "teacher1.add_subject('maths')\n",
        "teacher1.subjects"
      ],
      "execution_count": null,
      "outputs": [
        {
          "output_type": "execute_result",
          "data": {
            "text/plain": [
              "['maths']"
            ]
          },
          "metadata": {
            "tags": []
          },
          "execution_count": 15
        }
      ]
    },
    {
      "cell_type": "markdown",
      "metadata": {
        "id": "jmIHJw601Iq8"
      },
      "source": [
        "From this point, the number of items in the `subjects` list will be the same as the number of times the `add_function()` is called.\n",
        "\n",
        "Let's get the grades taught by the teacher."
      ]
    },
    {
      "cell_type": "code",
      "metadata": {
        "id": "b3R-d-aDaQ6I",
        "colab": {
          "base_uri": "https://localhost:8080/",
          "height": 34
        },
        "outputId": "70b798a9-956e-4e9b-98ae-dbdb584c8e20"
      },
      "source": [
        "# S3.5: Get all the grades taught by the teacher object created above.\n",
        "teacher1.grades"
      ],
      "execution_count": null,
      "outputs": [
        {
          "output_type": "execute_result",
          "data": {
            "text/plain": [
              "[]"
            ]
          },
          "metadata": {
            "tags": []
          },
          "execution_count": 16
        }
      ]
    },
    {
      "cell_type": "markdown",
      "metadata": {
        "id": "LWm2yt9o2alg"
      },
      "source": [
        "It is an empty list. Let's add a new grade, say tenth grade, by calling the `add_grade()` function with `'10'` as its input.\n",
        "\n",
        "**Note:** Add a grade in the string format so that it is not a measurable entity."
      ]
    },
    {
      "cell_type": "code",
      "metadata": {
        "id": "OxWnfirVbPU8",
        "colab": {
          "base_uri": "https://localhost:8080/",
          "height": 34
        },
        "outputId": "4735d4f3-a901-4451-bc10-3e739a9b5fa4"
      },
      "source": [
        "# S3.6: Add grade '10' to the list of grades taught by the teacher object created above.\n",
        "teacher1.add_grade('10')\n",
        "teacher1.grades"
      ],
      "execution_count": null,
      "outputs": [
        {
          "output_type": "execute_result",
          "data": {
            "text/plain": [
              "['10']"
            ]
          },
          "metadata": {
            "tags": []
          },
          "execution_count": 17
        }
      ]
    },
    {
      "cell_type": "markdown",
      "metadata": {
        "id": "lLkMdJ1W2rsZ"
      },
      "source": [
        "Similar to the `subjects` list, the`grades` list is also updated.\n",
        "\n",
        "You can try to add the same items to `subject` and `grade` lists respectively to check whether the lists can contain repeated items."
      ]
    },
    {
      "cell_type": "code",
      "metadata": {
        "id": "zJEeTC2QaBX9",
        "colab": {
          "base_uri": "https://localhost:8080/",
          "height": 51
        },
        "outputId": "8aba5649-6433-46f9-a9a9-52ebd4e4d087"
      },
      "source": [
        "# S3.7: Add grade '10' again to the 'grades' list of the above teacher object.\n",
        "teacher1.add_grade('10')\n",
        "teacher1.grades"
      ],
      "execution_count": null,
      "outputs": [
        {
          "output_type": "stream",
          "text": [
            "10 already exists.\n"
          ],
          "name": "stdout"
        },
        {
          "output_type": "execute_result",
          "data": {
            "text/plain": [
              "['10']"
            ]
          },
          "metadata": {
            "tags": []
          },
          "execution_count": 18
        }
      ]
    },
    {
      "cell_type": "markdown",
      "metadata": {
        "id": "aLhSisM0aLJp"
      },
      "source": [
        "This time you got a message saying that the grade already exists and after calling the `grades` attribute again, we got only one item in the `grades` list."
      ]
    },
    {
      "cell_type": "markdown",
      "metadata": {
        "id": "RpMV1BPteTPw"
      },
      "source": [
        "---"
      ]
    },
    {
      "cell_type": "markdown",
      "metadata": {
        "id": "UeCyw99VeT-d"
      },
      "source": [
        "#### Activity 4: The `Student` Class^^\n",
        "\n",
        "Let's create another class called `Student` which also inherits from the `Person` class. `Student` class should have the following additional attributes and methods.\n",
        "\n",
        "\n",
        "**Additional Attributes:**\n",
        "\n",
        "1. Grade of the student at present\n",
        "\n",
        "2. Name of the teacher currently teaching the student\n",
        "\n",
        "3. School fees paid currently by the student\n",
        "\n",
        "\n",
        "**Methods:**\n",
        "\n",
        "1. A function to increase the school fees by $5\\%$ or any other value of your choice.\n",
        "\n",
        "**Note:** For the sake of practice, this time inherit the properties of the `Person` class without using the `super()` method.\n"
      ]
    },
    {
      "cell_type": "code",
      "metadata": {
        "id": "nwrZ9talbWZp"
      },
      "source": [
        "# S4.1: Create the 'Student' class.\n",
        "class Student(Person):\n",
        "  def __init__(self, name, age, gender, grade, class_teacher, school_fee):\n",
        "    Person.__init__(self, name, age, gender) \n",
        "    self.grade = grade\n",
        "    self.class_teacher = class_teacher\n",
        "    self.school_fee = school_fee\n",
        "\n",
        "  def increase_school_fee(self):\n",
        "    self.school_fee = self.school_fee * 1.05\n",
        "    return self.school_fee"
      ],
      "execution_count": null,
      "outputs": []
    },
    {
      "cell_type": "markdown",
      "metadata": {
        "id": "movUaPTJ45ZT"
      },
      "source": [
        "Now let's create an object of the `Student` class with not just parent class attributes but the `Student` class attributes as well."
      ]
    },
    {
      "cell_type": "code",
      "metadata": {
        "id": "ywuqMcuwkqZ7",
        "colab": {
          "base_uri": "https://localhost:8080/",
          "height": 102
        },
        "outputId": "0f5c6808-f0ea-48ba-bd62-d539e76b8620"
      },
      "source": [
        "# S4.2: Create an object of the 'Student' class and retrieve all the 'Student' class attributes.\n",
        "student1 = Student('Rahul', 28, 'male', '12', 'Abdul Kalam', 15000)\n",
        "print(\"Name: {}\\nAge: {}\\nGender: {}\\nClass Teacher: {}\\nSchool Fee: INR {:,}\".format(student1.name, \n",
        "                                                                                    student1.age, \n",
        "                                                                                    student1.gender,\n",
        "                                                                                    student1.class_teacher,\n",
        "                                                                                    student1.school_fee))"
      ],
      "execution_count": null,
      "outputs": [
        {
          "output_type": "stream",
          "text": [
            "Name: Rahul\n",
            "Age: 28\n",
            "Gender: male\n",
            "Class Teacher: Abdul Kalam\n",
            "School Fee: INR 15,000\n"
          ],
          "name": "stdout"
        }
      ]
    },
    {
      "cell_type": "markdown",
      "metadata": {
        "id": "DKbK_pk85uat"
      },
      "source": [
        "Try and update the current school fee using the function `increase_school_fee()`."
      ]
    },
    {
      "cell_type": "code",
      "metadata": {
        "id": "5N3nsPhLc-3L",
        "colab": {
          "base_uri": "https://localhost:8080/",
          "height": 34
        },
        "outputId": "ead58599-4bef-4f77-982f-7a5306254586"
      },
      "source": [
        "# S4.3: Increase the school fee and then get the increased school fee paid by the student object created above.\n",
        "student1.increase_school_fee()\n",
        "student1.school_fee"
      ],
      "execution_count": null,
      "outputs": [
        {
          "output_type": "execute_result",
          "data": {
            "text/plain": [
              "15750.0"
            ]
          },
          "metadata": {
            "tags": []
          },
          "execution_count": 21
        }
      ]
    },
    {
      "cell_type": "markdown",
      "metadata": {
        "id": "4Z3YCQKC56J3"
      },
      "source": [
        "As you can see, the school fees paid by the current student have increased as expected.\n",
        "\n",
        "We will stop here. In the next lesson, we will learn how to create a new class that inherits from the child class using the concept of **Multi-level Inheritance**."
      ]
    },
    {
      "cell_type": "markdown",
      "metadata": {
        "id": "SII_cS_sfbZX"
      },
      "source": [
        "---"
      ]
    },
    {
      "cell_type": "markdown",
      "metadata": {
        "id": "9tCasNWA9rg9"
      },
      "source": [
        "## Additional Activities\n",
        "\n",
        "The activities starting from this point are optional. Please do these activities **ONLY** if you have time to spare in the class. Otherwise, skip to the **Wrap-Up** section. The additional activities will not be available in the class copy of the notebook. You will have to manually add these activities in the class copy by adding new text and code cells.\n",
        "\n",
        "Moreover, you don't have to do all the additional activities. Depending on the availability of time in a class, you can choose the number of additional activities to perform from this collection. "
      ]
    },
    {
      "cell_type": "markdown",
      "metadata": {
        "id": "6QtQEmJOtPHs"
      },
      "source": [
        "---"
      ]
    },
    {
      "cell_type": "markdown",
      "metadata": {
        "id": "7osHj2DGUHez"
      },
      "source": [
        "#### Activity 1: The `AdministrationStaff` Class\n",
        "\n",
        "Let's create a new class which inherits the `Person` class and has the following additional attributes and methods:\n",
        "\n",
        "**Additional Attributes**\n",
        "\n",
        "1. Designation of the staff member\n",
        "\n",
        "2. Salary of the staff member\n",
        "\n",
        "**Method(s)**\n",
        "\n",
        "1. A function to increase the salary of the staff member.\n"
      ]
    },
    {
      "cell_type": "code",
      "metadata": {
        "id": "1_x2KBfLhgef"
      },
      "source": [
        "# Create the 'AdministrationStaff' class.\n",
        "class AdministrationStaff(Person):\n",
        "  def __init__(self, name, age, gender, designation, salary):\n",
        "    super().__init__(name, age, gender)\n",
        "    self.designation = designation\n",
        "    self.salary = salary\n",
        "\n",
        "  def salary_hike(self, hike_percentage):\n",
        "    self.salary = self.salary * (1 + hike_percentage / 100)\n",
        "    return self.salary"
      ],
      "execution_count": null,
      "outputs": []
    },
    {
      "cell_type": "code",
      "metadata": {
        "id": "Ty5uwOHJiHeJ",
        "colab": {
          "base_uri": "https://localhost:8080/",
          "height": 35
        },
        "outputId": "47cc1045-f6a3-41a2-e08d-89487131b7ed"
      },
      "source": [
        "# Create an object of the 'AdministrationStaff' class and get its designation.\n",
        "admin_staff1 = AdministrationStaff('Samurai Jack', 26, 'male', 'Accountant', 55000)\n",
        "admin_staff1.designation"
      ],
      "execution_count": null,
      "outputs": [
        {
          "output_type": "execute_result",
          "data": {
            "application/vnd.google.colaboratory.intrinsic+json": {
              "type": "string"
            },
            "text/plain": [
              "'Accountant'"
            ]
          },
          "metadata": {
            "tags": []
          },
          "execution_count": 16
        }
      ]
    },
    {
      "cell_type": "code",
      "metadata": {
        "id": "iuIARLOMiiL5",
        "colab": {
          "base_uri": "https://localhost:8080/",
          "height": 51
        },
        "outputId": "e0a66b70-b2fa-4b04-f1f5-dcffbe36542b"
      },
      "source": [
        "# Increase the salary of the above object by 15%.\n",
        "print(admin_staff1.salary)\n",
        "admin_staff1.salary_hike(15)\n",
        "admin_staff1.salary"
      ],
      "execution_count": null,
      "outputs": [
        {
          "output_type": "stream",
          "text": [
            "55000\n"
          ],
          "name": "stdout"
        },
        {
          "output_type": "execute_result",
          "data": {
            "text/plain": [
              "63249.99999999999"
            ]
          },
          "metadata": {
            "tags": []
          },
          "execution_count": 17
        }
      ]
    },
    {
      "cell_type": "markdown",
      "metadata": {
        "id": "MLFofDihl-u9"
      },
      "source": [
        "---"
      ]
    },
    {
      "cell_type": "markdown",
      "metadata": {
        "id": "UgP6JYrTl_a-"
      },
      "source": [
        "### Activities\n",
        "\n",
        "**Teacher Activities**\n",
        "\n",
        "1. OOP - Inheritance (Class Copy)\n",
        "\n",
        "   https://colab.research.google.com/drive/1nUcDj4pu5MpdJKAgyCSyZJmS-1cyZBJZ\n",
        "\n",
        "2. OOP - Inheritance (Reference Copy)\n",
        "\n",
        "   https://colab.research.google.com/drive/1m7LBVhFNkDY8FX44254q5OozgbJxsGVs"
      ]
    },
    {
      "cell_type": "markdown",
      "metadata": {
        "id": "bVPtcfx69q5Y"
      },
      "source": [
        "---"
      ]
    }
  ]
}